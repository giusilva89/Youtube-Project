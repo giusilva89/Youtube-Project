{
 "cells": [
  {
   "cell_type": "code",
   "execution_count": 1,
   "metadata": {},
   "outputs": [],
   "source": [
    "#Loading library\n",
    "import numpy as np\n",
    "import pandas as pd\n",
    "import matplotlib.pyplot as plt\n",
    "import seaborn as sns\n",
    "import re\n",
    "import time\n",
    "import warnings\n",
    "warnings.filterwarnings('ignore')\n",
    "\n"
   ]
  },
  {
   "cell_type": "code",
   "execution_count": 2,
   "metadata": {},
   "outputs": [
    {
     "data": {
      "text/html": [
       "<div>\n",
       "<style scoped>\n",
       "    .dataframe tbody tr th:only-of-type {\n",
       "        vertical-align: middle;\n",
       "    }\n",
       "\n",
       "    .dataframe tbody tr th {\n",
       "        vertical-align: top;\n",
       "    }\n",
       "\n",
       "    .dataframe thead th {\n",
       "        text-align: right;\n",
       "    }\n",
       "</style>\n",
       "<table border=\"1\" class=\"dataframe\">\n",
       "  <thead>\n",
       "    <tr style=\"text-align: right;\">\n",
       "      <th></th>\n",
       "      <th>video_id</th>\n",
       "      <th>trending_date</th>\n",
       "      <th>title</th>\n",
       "      <th>channel_title</th>\n",
       "      <th>category_id</th>\n",
       "      <th>publish_time</th>\n",
       "      <th>tags</th>\n",
       "      <th>views</th>\n",
       "      <th>likes</th>\n",
       "      <th>dislikes</th>\n",
       "      <th>comment_count</th>\n",
       "      <th>thumbnail_link</th>\n",
       "      <th>comments_disabled</th>\n",
       "      <th>ratings_disabled</th>\n",
       "      <th>video_error_or_removed</th>\n",
       "      <th>description</th>\n",
       "    </tr>\n",
       "  </thead>\n",
       "  <tbody>\n",
       "    <tr>\n",
       "      <th>0</th>\n",
       "      <td>n1WpP7iowLc</td>\n",
       "      <td>17.14.11</td>\n",
       "      <td>Eminem - Walk On Water (Audio) ft. Beyoncé</td>\n",
       "      <td>EminemVEVO</td>\n",
       "      <td>10</td>\n",
       "      <td>2017-11-10T17:00:03.000Z</td>\n",
       "      <td>Eminem|\"Walk\"|\"On\"|\"Water\"|\"Aftermath/Shady/In...</td>\n",
       "      <td>17158579</td>\n",
       "      <td>787425</td>\n",
       "      <td>43420</td>\n",
       "      <td>125882</td>\n",
       "      <td>https://i.ytimg.com/vi/n1WpP7iowLc/default.jpg</td>\n",
       "      <td>False</td>\n",
       "      <td>False</td>\n",
       "      <td>False</td>\n",
       "      <td>Eminem's new track Walk on Water ft. Beyoncé i...</td>\n",
       "    </tr>\n",
       "    <tr>\n",
       "      <th>1</th>\n",
       "      <td>0dBIkQ4Mz1M</td>\n",
       "      <td>17.14.11</td>\n",
       "      <td>PLUSH - Bad Unboxing Fan Mail</td>\n",
       "      <td>iDubbbzTV</td>\n",
       "      <td>23</td>\n",
       "      <td>2017-11-13T17:00:00.000Z</td>\n",
       "      <td>plush|\"bad unboxing\"|\"unboxing\"|\"fan mail\"|\"id...</td>\n",
       "      <td>1014651</td>\n",
       "      <td>127794</td>\n",
       "      <td>1688</td>\n",
       "      <td>13030</td>\n",
       "      <td>https://i.ytimg.com/vi/0dBIkQ4Mz1M/default.jpg</td>\n",
       "      <td>False</td>\n",
       "      <td>False</td>\n",
       "      <td>False</td>\n",
       "      <td>STill got a lot of packages. Probably will las...</td>\n",
       "    </tr>\n",
       "    <tr>\n",
       "      <th>2</th>\n",
       "      <td>5qpjK5DgCt4</td>\n",
       "      <td>17.14.11</td>\n",
       "      <td>Racist Superman | Rudy Mancuso, King Bach &amp; Le...</td>\n",
       "      <td>Rudy Mancuso</td>\n",
       "      <td>23</td>\n",
       "      <td>2017-11-12T19:05:24.000Z</td>\n",
       "      <td>racist superman|\"rudy\"|\"mancuso\"|\"king\"|\"bach\"...</td>\n",
       "      <td>3191434</td>\n",
       "      <td>146035</td>\n",
       "      <td>5339</td>\n",
       "      <td>8181</td>\n",
       "      <td>https://i.ytimg.com/vi/5qpjK5DgCt4/default.jpg</td>\n",
       "      <td>False</td>\n",
       "      <td>False</td>\n",
       "      <td>False</td>\n",
       "      <td>WATCH MY PREVIOUS VIDEO ▶ \\n\\nSUBSCRIBE ► http...</td>\n",
       "    </tr>\n",
       "    <tr>\n",
       "      <th>3</th>\n",
       "      <td>d380meD0W0M</td>\n",
       "      <td>17.14.11</td>\n",
       "      <td>I Dare You: GOING BALD!?</td>\n",
       "      <td>nigahiga</td>\n",
       "      <td>24</td>\n",
       "      <td>2017-11-12T18:01:41.000Z</td>\n",
       "      <td>ryan|\"higa\"|\"higatv\"|\"nigahiga\"|\"i dare you\"|\"...</td>\n",
       "      <td>2095828</td>\n",
       "      <td>132239</td>\n",
       "      <td>1989</td>\n",
       "      <td>17518</td>\n",
       "      <td>https://i.ytimg.com/vi/d380meD0W0M/default.jpg</td>\n",
       "      <td>False</td>\n",
       "      <td>False</td>\n",
       "      <td>False</td>\n",
       "      <td>I know it's been a while since we did this sho...</td>\n",
       "    </tr>\n",
       "    <tr>\n",
       "      <th>4</th>\n",
       "      <td>2Vv-BfVoq4g</td>\n",
       "      <td>17.14.11</td>\n",
       "      <td>Ed Sheeran - Perfect (Official Music Video)</td>\n",
       "      <td>Ed Sheeran</td>\n",
       "      <td>10</td>\n",
       "      <td>2017-11-09T11:04:14.000Z</td>\n",
       "      <td>edsheeran|\"ed sheeran\"|\"acoustic\"|\"live\"|\"cove...</td>\n",
       "      <td>33523622</td>\n",
       "      <td>1634130</td>\n",
       "      <td>21082</td>\n",
       "      <td>85067</td>\n",
       "      <td>https://i.ytimg.com/vi/2Vv-BfVoq4g/default.jpg</td>\n",
       "      <td>False</td>\n",
       "      <td>False</td>\n",
       "      <td>False</td>\n",
       "      <td>🎧: https://ad.gt/yt-perfect\\n💰: https://atlant...</td>\n",
       "    </tr>\n",
       "    <tr>\n",
       "      <th>...</th>\n",
       "      <td>...</td>\n",
       "      <td>...</td>\n",
       "      <td>...</td>\n",
       "      <td>...</td>\n",
       "      <td>...</td>\n",
       "      <td>...</td>\n",
       "      <td>...</td>\n",
       "      <td>...</td>\n",
       "      <td>...</td>\n",
       "      <td>...</td>\n",
       "      <td>...</td>\n",
       "      <td>...</td>\n",
       "      <td>...</td>\n",
       "      <td>...</td>\n",
       "      <td>...</td>\n",
       "      <td>...</td>\n",
       "    </tr>\n",
       "    <tr>\n",
       "      <th>40876</th>\n",
       "      <td>sGolxsMSGfQ</td>\n",
       "      <td>18.14.06</td>\n",
       "      <td>HOW2: How to Solve a Mystery</td>\n",
       "      <td>Annoying Orange</td>\n",
       "      <td>24</td>\n",
       "      <td>2018-06-13T18:00:07.000Z</td>\n",
       "      <td>annoying orange|\"funny\"|\"fruit\"|\"talking\"|\"ani...</td>\n",
       "      <td>80685</td>\n",
       "      <td>1701</td>\n",
       "      <td>99</td>\n",
       "      <td>1312</td>\n",
       "      <td>https://i.ytimg.com/vi/sGolxsMSGfQ/default.jpg</td>\n",
       "      <td>False</td>\n",
       "      <td>False</td>\n",
       "      <td>False</td>\n",
       "      <td>🚨 NEW MERCH! http://amzn.to/annoyingorange 🚨➤ ...</td>\n",
       "    </tr>\n",
       "    <tr>\n",
       "      <th>40877</th>\n",
       "      <td>8HNuRNi8t70</td>\n",
       "      <td>18.14.06</td>\n",
       "      <td>Eli Lik Lik Episode 13 Partie 01</td>\n",
       "      <td>Elhiwar Ettounsi</td>\n",
       "      <td>24</td>\n",
       "      <td>2018-06-13T19:01:18.000Z</td>\n",
       "      <td>hkayet tounsia|\"elhiwar ettounsi\"|\"denya okhra...</td>\n",
       "      <td>103339</td>\n",
       "      <td>460</td>\n",
       "      <td>66</td>\n",
       "      <td>51</td>\n",
       "      <td>https://i.ytimg.com/vi/8HNuRNi8t70/default.jpg</td>\n",
       "      <td>False</td>\n",
       "      <td>False</td>\n",
       "      <td>False</td>\n",
       "      <td>► Retrouvez vos programmes préférés : https://...</td>\n",
       "    </tr>\n",
       "    <tr>\n",
       "      <th>40878</th>\n",
       "      <td>GWlKEM3m2EE</td>\n",
       "      <td>18.14.06</td>\n",
       "      <td>KINGDOM HEARTS III – SQUARE ENIX E3 SHOWCASE 2...</td>\n",
       "      <td>Kingdom Hearts</td>\n",
       "      <td>20</td>\n",
       "      <td>2018-06-11T17:30:53.000Z</td>\n",
       "      <td>Kingdom Hearts|\"KH3\"|\"Kingdom Hearts 3\"|\"Froze...</td>\n",
       "      <td>773347</td>\n",
       "      <td>25900</td>\n",
       "      <td>224</td>\n",
       "      <td>3881</td>\n",
       "      <td>https://i.ytimg.com/vi/GWlKEM3m2EE/default.jpg</td>\n",
       "      <td>False</td>\n",
       "      <td>False</td>\n",
       "      <td>False</td>\n",
       "      <td>Find out more about Kingdom Hearts 3: https://...</td>\n",
       "    </tr>\n",
       "    <tr>\n",
       "      <th>40879</th>\n",
       "      <td>lbMKLzQ4cNQ</td>\n",
       "      <td>18.14.06</td>\n",
       "      <td>Trump Advisor Grovels To Trudeau</td>\n",
       "      <td>The Young Turks</td>\n",
       "      <td>25</td>\n",
       "      <td>2018-06-13T04:00:05.000Z</td>\n",
       "      <td>180612__TB02SorryExcuse|\"News\"|\"Politics\"|\"The...</td>\n",
       "      <td>115225</td>\n",
       "      <td>2115</td>\n",
       "      <td>182</td>\n",
       "      <td>1672</td>\n",
       "      <td>https://i.ytimg.com/vi/lbMKLzQ4cNQ/default.jpg</td>\n",
       "      <td>False</td>\n",
       "      <td>False</td>\n",
       "      <td>False</td>\n",
       "      <td>Peter Navarro isn’t talking so tough now. Ana ...</td>\n",
       "    </tr>\n",
       "    <tr>\n",
       "      <th>40880</th>\n",
       "      <td>POTgw38-m58</td>\n",
       "      <td>18.14.06</td>\n",
       "      <td>【完整版】遇到恐怖情人該怎麼辦？2018.06.13小明星大跟班</td>\n",
       "      <td>我愛小明星大跟班</td>\n",
       "      <td>24</td>\n",
       "      <td>2018-06-13T16:00:03.000Z</td>\n",
       "      <td>吳宗憲|\"吳姍儒\"|\"小明星大跟班\"|\"Sandy\"|\"Jacky wu\"|\"憲哥\"|\"中天...</td>\n",
       "      <td>107392</td>\n",
       "      <td>300</td>\n",
       "      <td>62</td>\n",
       "      <td>251</td>\n",
       "      <td>https://i.ytimg.com/vi/POTgw38-m58/default.jpg</td>\n",
       "      <td>False</td>\n",
       "      <td>False</td>\n",
       "      <td>False</td>\n",
       "      <td>藝人：李妍瑾、玉兔、班傑、LaLa、小優、少少專家：陳筱屏(律師)、Wendy(心理師)、羅...</td>\n",
       "    </tr>\n",
       "  </tbody>\n",
       "</table>\n",
       "<p>40881 rows × 16 columns</p>\n",
       "</div>"
      ],
      "text/plain": [
       "          video_id trending_date  \\\n",
       "0      n1WpP7iowLc      17.14.11   \n",
       "1      0dBIkQ4Mz1M      17.14.11   \n",
       "2      5qpjK5DgCt4      17.14.11   \n",
       "3      d380meD0W0M      17.14.11   \n",
       "4      2Vv-BfVoq4g      17.14.11   \n",
       "...            ...           ...   \n",
       "40876  sGolxsMSGfQ      18.14.06   \n",
       "40877  8HNuRNi8t70      18.14.06   \n",
       "40878  GWlKEM3m2EE      18.14.06   \n",
       "40879  lbMKLzQ4cNQ      18.14.06   \n",
       "40880  POTgw38-m58      18.14.06   \n",
       "\n",
       "                                                   title     channel_title  \\\n",
       "0             Eminem - Walk On Water (Audio) ft. Beyoncé        EminemVEVO   \n",
       "1                          PLUSH - Bad Unboxing Fan Mail         iDubbbzTV   \n",
       "2      Racist Superman | Rudy Mancuso, King Bach & Le...      Rudy Mancuso   \n",
       "3                               I Dare You: GOING BALD!?          nigahiga   \n",
       "4            Ed Sheeran - Perfect (Official Music Video)        Ed Sheeran   \n",
       "...                                                  ...               ...   \n",
       "40876                       HOW2: How to Solve a Mystery   Annoying Orange   \n",
       "40877                   Eli Lik Lik Episode 13 Partie 01  Elhiwar Ettounsi   \n",
       "40878  KINGDOM HEARTS III – SQUARE ENIX E3 SHOWCASE 2...    Kingdom Hearts   \n",
       "40879                   Trump Advisor Grovels To Trudeau   The Young Turks   \n",
       "40880                   【完整版】遇到恐怖情人該怎麼辦？2018.06.13小明星大跟班          我愛小明星大跟班   \n",
       "\n",
       "       category_id              publish_time  \\\n",
       "0               10  2017-11-10T17:00:03.000Z   \n",
       "1               23  2017-11-13T17:00:00.000Z   \n",
       "2               23  2017-11-12T19:05:24.000Z   \n",
       "3               24  2017-11-12T18:01:41.000Z   \n",
       "4               10  2017-11-09T11:04:14.000Z   \n",
       "...            ...                       ...   \n",
       "40876           24  2018-06-13T18:00:07.000Z   \n",
       "40877           24  2018-06-13T19:01:18.000Z   \n",
       "40878           20  2018-06-11T17:30:53.000Z   \n",
       "40879           25  2018-06-13T04:00:05.000Z   \n",
       "40880           24  2018-06-13T16:00:03.000Z   \n",
       "\n",
       "                                                    tags     views    likes  \\\n",
       "0      Eminem|\"Walk\"|\"On\"|\"Water\"|\"Aftermath/Shady/In...  17158579   787425   \n",
       "1      plush|\"bad unboxing\"|\"unboxing\"|\"fan mail\"|\"id...   1014651   127794   \n",
       "2      racist superman|\"rudy\"|\"mancuso\"|\"king\"|\"bach\"...   3191434   146035   \n",
       "3      ryan|\"higa\"|\"higatv\"|\"nigahiga\"|\"i dare you\"|\"...   2095828   132239   \n",
       "4      edsheeran|\"ed sheeran\"|\"acoustic\"|\"live\"|\"cove...  33523622  1634130   \n",
       "...                                                  ...       ...      ...   \n",
       "40876  annoying orange|\"funny\"|\"fruit\"|\"talking\"|\"ani...     80685     1701   \n",
       "40877  hkayet tounsia|\"elhiwar ettounsi\"|\"denya okhra...    103339      460   \n",
       "40878  Kingdom Hearts|\"KH3\"|\"Kingdom Hearts 3\"|\"Froze...    773347    25900   \n",
       "40879  180612__TB02SorryExcuse|\"News\"|\"Politics\"|\"The...    115225     2115   \n",
       "40880  吳宗憲|\"吳姍儒\"|\"小明星大跟班\"|\"Sandy\"|\"Jacky wu\"|\"憲哥\"|\"中天...    107392      300   \n",
       "\n",
       "       dislikes  comment_count  \\\n",
       "0         43420         125882   \n",
       "1          1688          13030   \n",
       "2          5339           8181   \n",
       "3          1989          17518   \n",
       "4         21082          85067   \n",
       "...         ...            ...   \n",
       "40876        99           1312   \n",
       "40877        66             51   \n",
       "40878       224           3881   \n",
       "40879       182           1672   \n",
       "40880        62            251   \n",
       "\n",
       "                                       thumbnail_link  comments_disabled  \\\n",
       "0      https://i.ytimg.com/vi/n1WpP7iowLc/default.jpg              False   \n",
       "1      https://i.ytimg.com/vi/0dBIkQ4Mz1M/default.jpg              False   \n",
       "2      https://i.ytimg.com/vi/5qpjK5DgCt4/default.jpg              False   \n",
       "3      https://i.ytimg.com/vi/d380meD0W0M/default.jpg              False   \n",
       "4      https://i.ytimg.com/vi/2Vv-BfVoq4g/default.jpg              False   \n",
       "...                                               ...                ...   \n",
       "40876  https://i.ytimg.com/vi/sGolxsMSGfQ/default.jpg              False   \n",
       "40877  https://i.ytimg.com/vi/8HNuRNi8t70/default.jpg              False   \n",
       "40878  https://i.ytimg.com/vi/GWlKEM3m2EE/default.jpg              False   \n",
       "40879  https://i.ytimg.com/vi/lbMKLzQ4cNQ/default.jpg              False   \n",
       "40880  https://i.ytimg.com/vi/POTgw38-m58/default.jpg              False   \n",
       "\n",
       "       ratings_disabled  video_error_or_removed  \\\n",
       "0                 False                   False   \n",
       "1                 False                   False   \n",
       "2                 False                   False   \n",
       "3                 False                   False   \n",
       "4                 False                   False   \n",
       "...                 ...                     ...   \n",
       "40876             False                   False   \n",
       "40877             False                   False   \n",
       "40878             False                   False   \n",
       "40879             False                   False   \n",
       "40880             False                   False   \n",
       "\n",
       "                                             description  \n",
       "0      Eminem's new track Walk on Water ft. Beyoncé i...  \n",
       "1      STill got a lot of packages. Probably will las...  \n",
       "2      WATCH MY PREVIOUS VIDEO ▶ \\n\\nSUBSCRIBE ► http...  \n",
       "3      I know it's been a while since we did this sho...  \n",
       "4      🎧: https://ad.gt/yt-perfect\\n💰: https://atlant...  \n",
       "...                                                  ...  \n",
       "40876  🚨 NEW MERCH! http://amzn.to/annoyingorange 🚨➤ ...  \n",
       "40877  ► Retrouvez vos programmes préférés : https://...  \n",
       "40878  Find out more about Kingdom Hearts 3: https://...  \n",
       "40879  Peter Navarro isn’t talking so tough now. Ana ...  \n",
       "40880  藝人：李妍瑾、玉兔、班傑、LaLa、小優、少少專家：陳筱屏(律師)、Wendy(心理師)、羅...  \n",
       "\n",
       "[40881 rows x 16 columns]"
      ]
     },
     "execution_count": 2,
     "metadata": {},
     "output_type": "execute_result"
    }
   ],
   "source": [
    "\n",
    "# Reading the dataset\n",
    "\n",
    "youtube = pd.read_csv('Canada.csv') \n",
    "youtube"
   ]
  },
  {
   "cell_type": "code",
   "execution_count": 3,
   "metadata": {},
   "outputs": [
    {
     "data": {
      "text/plain": [
       "(40881, 16)"
      ]
     },
     "execution_count": 3,
     "metadata": {},
     "output_type": "execute_result"
    }
   ],
   "source": [
    "# Shape of Data Frame (Rows and Columns)\n",
    "\n",
    "youtube.shape"
   ]
  },
  {
   "cell_type": "code",
   "execution_count": 4,
   "metadata": {},
   "outputs": [],
   "source": [
    "# Dropping nan values \n",
    "\n",
    "youtube = youtube.dropna(how='any',axis=0)"
   ]
  },
  {
   "cell_type": "code",
   "execution_count": 5,
   "metadata": {},
   "outputs": [
    {
     "data": {
      "text/plain": [
       "video_id                  0\n",
       "trending_date             0\n",
       "title                     0\n",
       "channel_title             0\n",
       "category_id               0\n",
       "publish_time              0\n",
       "tags                      0\n",
       "views                     0\n",
       "likes                     0\n",
       "dislikes                  0\n",
       "comment_count             0\n",
       "thumbnail_link            0\n",
       "comments_disabled         0\n",
       "ratings_disabled          0\n",
       "video_error_or_removed    0\n",
       "description               0\n",
       "dtype: int64"
      ]
     },
     "execution_count": 5,
     "metadata": {},
     "output_type": "execute_result"
    }
   ],
   "source": [
    "# no missing values\n",
    "\n",
    "youtube.isnull().sum()"
   ]
  },
  {
   "cell_type": "code",
   "execution_count": 6,
   "metadata": {},
   "outputs": [
    {
     "data": {
      "text/html": [
       "<div>\n",
       "<style scoped>\n",
       "    .dataframe tbody tr th:only-of-type {\n",
       "        vertical-align: middle;\n",
       "    }\n",
       "\n",
       "    .dataframe tbody tr th {\n",
       "        vertical-align: top;\n",
       "    }\n",
       "\n",
       "    .dataframe thead th {\n",
       "        text-align: right;\n",
       "    }\n",
       "</style>\n",
       "<table border=\"1\" class=\"dataframe\">\n",
       "  <thead>\n",
       "    <tr style=\"text-align: right;\">\n",
       "      <th></th>\n",
       "      <th>category_id</th>\n",
       "      <th>views</th>\n",
       "      <th>likes</th>\n",
       "      <th>dislikes</th>\n",
       "      <th>comment_count</th>\n",
       "    </tr>\n",
       "  </thead>\n",
       "  <tbody>\n",
       "    <tr>\n",
       "      <th>count</th>\n",
       "      <td>39585.000000</td>\n",
       "      <td>3.958500e+04</td>\n",
       "      <td>3.958500e+04</td>\n",
       "      <td>3.958500e+04</td>\n",
       "      <td>3.958500e+04</td>\n",
       "    </tr>\n",
       "    <tr>\n",
       "      <th>mean</th>\n",
       "      <td>20.778123</td>\n",
       "      <td>1.169234e+06</td>\n",
       "      <td>4.059694e+04</td>\n",
       "      <td>2.058693e+03</td>\n",
       "      <td>5.159716e+03</td>\n",
       "    </tr>\n",
       "    <tr>\n",
       "      <th>std</th>\n",
       "      <td>6.808714</td>\n",
       "      <td>3.437842e+06</td>\n",
       "      <td>1.345967e+05</td>\n",
       "      <td>1.931258e+04</td>\n",
       "      <td>2.189959e+04</td>\n",
       "    </tr>\n",
       "    <tr>\n",
       "      <th>min</th>\n",
       "      <td>1.000000</td>\n",
       "      <td>7.330000e+02</td>\n",
       "      <td>0.000000e+00</td>\n",
       "      <td>0.000000e+00</td>\n",
       "      <td>0.000000e+00</td>\n",
       "    </tr>\n",
       "    <tr>\n",
       "      <th>25%</th>\n",
       "      <td>20.000000</td>\n",
       "      <td>1.497150e+05</td>\n",
       "      <td>2.395000e+03</td>\n",
       "      <td>1.040000e+02</td>\n",
       "      <td>4.420000e+02</td>\n",
       "    </tr>\n",
       "    <tr>\n",
       "      <th>50%</th>\n",
       "      <td>24.000000</td>\n",
       "      <td>3.831200e+05</td>\n",
       "      <td>9.244000e+03</td>\n",
       "      <td>3.140000e+02</td>\n",
       "      <td>1.357000e+03</td>\n",
       "    </tr>\n",
       "    <tr>\n",
       "      <th>75%</th>\n",
       "      <td>24.000000</td>\n",
       "      <td>9.831390e+05</td>\n",
       "      <td>2.967000e+04</td>\n",
       "      <td>9.760000e+02</td>\n",
       "      <td>3.821000e+03</td>\n",
       "    </tr>\n",
       "    <tr>\n",
       "      <th>max</th>\n",
       "      <td>43.000000</td>\n",
       "      <td>1.378431e+08</td>\n",
       "      <td>5.053338e+06</td>\n",
       "      <td>1.602383e+06</td>\n",
       "      <td>1.114800e+06</td>\n",
       "    </tr>\n",
       "  </tbody>\n",
       "</table>\n",
       "</div>"
      ],
      "text/plain": [
       "        category_id         views         likes      dislikes  comment_count\n",
       "count  39585.000000  3.958500e+04  3.958500e+04  3.958500e+04   3.958500e+04\n",
       "mean      20.778123  1.169234e+06  4.059694e+04  2.058693e+03   5.159716e+03\n",
       "std        6.808714  3.437842e+06  1.345967e+05  1.931258e+04   2.189959e+04\n",
       "min        1.000000  7.330000e+02  0.000000e+00  0.000000e+00   0.000000e+00\n",
       "25%       20.000000  1.497150e+05  2.395000e+03  1.040000e+02   4.420000e+02\n",
       "50%       24.000000  3.831200e+05  9.244000e+03  3.140000e+02   1.357000e+03\n",
       "75%       24.000000  9.831390e+05  2.967000e+04  9.760000e+02   3.821000e+03\n",
       "max       43.000000  1.378431e+08  5.053338e+06  1.602383e+06   1.114800e+06"
      ]
     },
     "execution_count": 6,
     "metadata": {},
     "output_type": "execute_result"
    }
   ],
   "source": [
    "# Statistics metrics\n",
    "\n",
    "youtube.describe()"
   ]
  },
  {
   "cell_type": "code",
   "execution_count": 7,
   "metadata": {},
   "outputs": [
    {
     "name": "stdout",
     "output_type": "stream",
     "text": [
      "<class 'pandas.core.frame.DataFrame'>\n",
      "Int64Index: 39585 entries, 0 to 40880\n",
      "Data columns (total 16 columns):\n",
      " #   Column                  Non-Null Count  Dtype \n",
      "---  ------                  --------------  ----- \n",
      " 0   video_id                39585 non-null  object\n",
      " 1   trending_date           39585 non-null  object\n",
      " 2   title                   39585 non-null  object\n",
      " 3   channel_title           39585 non-null  object\n",
      " 4   category_id             39585 non-null  int64 \n",
      " 5   publish_time            39585 non-null  object\n",
      " 6   tags                    39585 non-null  object\n",
      " 7   views                   39585 non-null  int64 \n",
      " 8   likes                   39585 non-null  int64 \n",
      " 9   dislikes                39585 non-null  int64 \n",
      " 10  comment_count           39585 non-null  int64 \n",
      " 11  thumbnail_link          39585 non-null  object\n",
      " 12  comments_disabled       39585 non-null  bool  \n",
      " 13  ratings_disabled        39585 non-null  bool  \n",
      " 14  video_error_or_removed  39585 non-null  bool  \n",
      " 15  description             39585 non-null  object\n",
      "dtypes: bool(3), int64(5), object(8)\n",
      "memory usage: 4.3+ MB\n"
     ]
    }
   ],
   "source": [
    "# Data info\n",
    "\n",
    "youtube.info()"
   ]
  },
  {
   "cell_type": "code",
   "execution_count": 8,
   "metadata": {
    "scrolled": true
   },
   "outputs": [
    {
     "data": {
      "text/plain": [
       "24    13173\n",
       "25     3868\n",
       "22     3726\n",
       "23     3725\n",
       "10     3695\n",
       "17     2650\n",
       "1      2001\n",
       "26     1998\n",
       "20     1330\n",
       "28     1143\n",
       "27      982\n",
       "19      377\n",
       "15      369\n",
       "2       348\n",
       "43      124\n",
       "29       70\n",
       "30        6\n",
       "Name: category_id, dtype: int64"
      ]
     },
     "execution_count": 8,
     "metadata": {},
     "output_type": "execute_result"
    }
   ],
   "source": [
    "# Category might be a important feature\n",
    "\n",
    "youtube['category_id'].value_counts()"
   ]
  },
  {
   "cell_type": "code",
   "execution_count": 9,
   "metadata": {},
   "outputs": [],
   "source": [
    "youtube.drop(['video_id','thumbnail_link'],axis=1,inplace=True)"
   ]
  },
  {
   "cell_type": "markdown",
   "metadata": {},
   "source": [
    "# Feature Engineering"
   ]
  },
  {
   "cell_type": "code",
   "execution_count": 10,
   "metadata": {},
   "outputs": [
    {
     "data": {
      "text/html": [
       "<div>\n",
       "<style scoped>\n",
       "    .dataframe tbody tr th:only-of-type {\n",
       "        vertical-align: middle;\n",
       "    }\n",
       "\n",
       "    .dataframe tbody tr th {\n",
       "        vertical-align: top;\n",
       "    }\n",
       "\n",
       "    .dataframe thead th {\n",
       "        text-align: right;\n",
       "    }\n",
       "</style>\n",
       "<table border=\"1\" class=\"dataframe\">\n",
       "  <thead>\n",
       "    <tr style=\"text-align: right;\">\n",
       "      <th></th>\n",
       "      <th>trending_date</th>\n",
       "      <th>title</th>\n",
       "      <th>channel_title</th>\n",
       "      <th>category_id</th>\n",
       "      <th>publish_time</th>\n",
       "      <th>tags</th>\n",
       "      <th>views</th>\n",
       "      <th>likes</th>\n",
       "      <th>dislikes</th>\n",
       "      <th>comment_count</th>\n",
       "      <th>comments_disabled</th>\n",
       "      <th>ratings_disabled</th>\n",
       "      <th>video_error_or_removed</th>\n",
       "      <th>description</th>\n",
       "    </tr>\n",
       "  </thead>\n",
       "  <tbody>\n",
       "    <tr>\n",
       "      <th>0</th>\n",
       "      <td>17.14.11</td>\n",
       "      <td>Eminem - Walk On Water (Audio) ft. Beyoncé</td>\n",
       "      <td>EminemVEVO</td>\n",
       "      <td>10</td>\n",
       "      <td>2017-11-10 17:00:03</td>\n",
       "      <td>Eminem|\"Walk\"|\"On\"|\"Water\"|\"Aftermath/Shady/In...</td>\n",
       "      <td>17158579</td>\n",
       "      <td>787425</td>\n",
       "      <td>43420</td>\n",
       "      <td>125882</td>\n",
       "      <td>False</td>\n",
       "      <td>False</td>\n",
       "      <td>False</td>\n",
       "      <td>Eminem's new track Walk on Water ft. Beyoncé i...</td>\n",
       "    </tr>\n",
       "    <tr>\n",
       "      <th>1</th>\n",
       "      <td>17.14.11</td>\n",
       "      <td>PLUSH - Bad Unboxing Fan Mail</td>\n",
       "      <td>iDubbbzTV</td>\n",
       "      <td>23</td>\n",
       "      <td>2017-11-13 17:00:00</td>\n",
       "      <td>plush|\"bad unboxing\"|\"unboxing\"|\"fan mail\"|\"id...</td>\n",
       "      <td>1014651</td>\n",
       "      <td>127794</td>\n",
       "      <td>1688</td>\n",
       "      <td>13030</td>\n",
       "      <td>False</td>\n",
       "      <td>False</td>\n",
       "      <td>False</td>\n",
       "      <td>STill got a lot of packages. Probably will las...</td>\n",
       "    </tr>\n",
       "    <tr>\n",
       "      <th>2</th>\n",
       "      <td>17.14.11</td>\n",
       "      <td>Racist Superman | Rudy Mancuso, King Bach &amp; Le...</td>\n",
       "      <td>Rudy Mancuso</td>\n",
       "      <td>23</td>\n",
       "      <td>2017-11-12 19:05:24</td>\n",
       "      <td>racist superman|\"rudy\"|\"mancuso\"|\"king\"|\"bach\"...</td>\n",
       "      <td>3191434</td>\n",
       "      <td>146035</td>\n",
       "      <td>5339</td>\n",
       "      <td>8181</td>\n",
       "      <td>False</td>\n",
       "      <td>False</td>\n",
       "      <td>False</td>\n",
       "      <td>WATCH MY PREVIOUS VIDEO ▶ \\n\\nSUBSCRIBE ► http...</td>\n",
       "    </tr>\n",
       "    <tr>\n",
       "      <th>3</th>\n",
       "      <td>17.14.11</td>\n",
       "      <td>I Dare You: GOING BALD!?</td>\n",
       "      <td>nigahiga</td>\n",
       "      <td>24</td>\n",
       "      <td>2017-11-12 18:01:41</td>\n",
       "      <td>ryan|\"higa\"|\"higatv\"|\"nigahiga\"|\"i dare you\"|\"...</td>\n",
       "      <td>2095828</td>\n",
       "      <td>132239</td>\n",
       "      <td>1989</td>\n",
       "      <td>17518</td>\n",
       "      <td>False</td>\n",
       "      <td>False</td>\n",
       "      <td>False</td>\n",
       "      <td>I know it's been a while since we did this sho...</td>\n",
       "    </tr>\n",
       "    <tr>\n",
       "      <th>4</th>\n",
       "      <td>17.14.11</td>\n",
       "      <td>Ed Sheeran - Perfect (Official Music Video)</td>\n",
       "      <td>Ed Sheeran</td>\n",
       "      <td>10</td>\n",
       "      <td>2017-11-09 11:04:14</td>\n",
       "      <td>edsheeran|\"ed sheeran\"|\"acoustic\"|\"live\"|\"cove...</td>\n",
       "      <td>33523622</td>\n",
       "      <td>1634130</td>\n",
       "      <td>21082</td>\n",
       "      <td>85067</td>\n",
       "      <td>False</td>\n",
       "      <td>False</td>\n",
       "      <td>False</td>\n",
       "      <td>🎧: https://ad.gt/yt-perfect\\n💰: https://atlant...</td>\n",
       "    </tr>\n",
       "    <tr>\n",
       "      <th>...</th>\n",
       "      <td>...</td>\n",
       "      <td>...</td>\n",
       "      <td>...</td>\n",
       "      <td>...</td>\n",
       "      <td>...</td>\n",
       "      <td>...</td>\n",
       "      <td>...</td>\n",
       "      <td>...</td>\n",
       "      <td>...</td>\n",
       "      <td>...</td>\n",
       "      <td>...</td>\n",
       "      <td>...</td>\n",
       "      <td>...</td>\n",
       "      <td>...</td>\n",
       "    </tr>\n",
       "    <tr>\n",
       "      <th>40876</th>\n",
       "      <td>18.14.06</td>\n",
       "      <td>HOW2: How to Solve a Mystery</td>\n",
       "      <td>Annoying Orange</td>\n",
       "      <td>24</td>\n",
       "      <td>2018-06-13 18:00:07</td>\n",
       "      <td>annoying orange|\"funny\"|\"fruit\"|\"talking\"|\"ani...</td>\n",
       "      <td>80685</td>\n",
       "      <td>1701</td>\n",
       "      <td>99</td>\n",
       "      <td>1312</td>\n",
       "      <td>False</td>\n",
       "      <td>False</td>\n",
       "      <td>False</td>\n",
       "      <td>🚨 NEW MERCH! http://amzn.to/annoyingorange 🚨➤ ...</td>\n",
       "    </tr>\n",
       "    <tr>\n",
       "      <th>40877</th>\n",
       "      <td>18.14.06</td>\n",
       "      <td>Eli Lik Lik Episode 13 Partie 01</td>\n",
       "      <td>Elhiwar Ettounsi</td>\n",
       "      <td>24</td>\n",
       "      <td>2018-06-13 19:01:18</td>\n",
       "      <td>hkayet tounsia|\"elhiwar ettounsi\"|\"denya okhra...</td>\n",
       "      <td>103339</td>\n",
       "      <td>460</td>\n",
       "      <td>66</td>\n",
       "      <td>51</td>\n",
       "      <td>False</td>\n",
       "      <td>False</td>\n",
       "      <td>False</td>\n",
       "      <td>► Retrouvez vos programmes préférés : https://...</td>\n",
       "    </tr>\n",
       "    <tr>\n",
       "      <th>40878</th>\n",
       "      <td>18.14.06</td>\n",
       "      <td>KINGDOM HEARTS III – SQUARE ENIX E3 SHOWCASE 2...</td>\n",
       "      <td>Kingdom Hearts</td>\n",
       "      <td>20</td>\n",
       "      <td>2018-06-11 17:30:53</td>\n",
       "      <td>Kingdom Hearts|\"KH3\"|\"Kingdom Hearts 3\"|\"Froze...</td>\n",
       "      <td>773347</td>\n",
       "      <td>25900</td>\n",
       "      <td>224</td>\n",
       "      <td>3881</td>\n",
       "      <td>False</td>\n",
       "      <td>False</td>\n",
       "      <td>False</td>\n",
       "      <td>Find out more about Kingdom Hearts 3: https://...</td>\n",
       "    </tr>\n",
       "    <tr>\n",
       "      <th>40879</th>\n",
       "      <td>18.14.06</td>\n",
       "      <td>Trump Advisor Grovels To Trudeau</td>\n",
       "      <td>The Young Turks</td>\n",
       "      <td>25</td>\n",
       "      <td>2018-06-13 04:00:05</td>\n",
       "      <td>180612__TB02SorryExcuse|\"News\"|\"Politics\"|\"The...</td>\n",
       "      <td>115225</td>\n",
       "      <td>2115</td>\n",
       "      <td>182</td>\n",
       "      <td>1672</td>\n",
       "      <td>False</td>\n",
       "      <td>False</td>\n",
       "      <td>False</td>\n",
       "      <td>Peter Navarro isn’t talking so tough now. Ana ...</td>\n",
       "    </tr>\n",
       "    <tr>\n",
       "      <th>40880</th>\n",
       "      <td>18.14.06</td>\n",
       "      <td>【完整版】遇到恐怖情人該怎麼辦？2018.06.13小明星大跟班</td>\n",
       "      <td>我愛小明星大跟班</td>\n",
       "      <td>24</td>\n",
       "      <td>2018-06-13 16:00:03</td>\n",
       "      <td>吳宗憲|\"吳姍儒\"|\"小明星大跟班\"|\"Sandy\"|\"Jacky wu\"|\"憲哥\"|\"中天...</td>\n",
       "      <td>107392</td>\n",
       "      <td>300</td>\n",
       "      <td>62</td>\n",
       "      <td>251</td>\n",
       "      <td>False</td>\n",
       "      <td>False</td>\n",
       "      <td>False</td>\n",
       "      <td>藝人：李妍瑾、玉兔、班傑、LaLa、小優、少少專家：陳筱屏(律師)、Wendy(心理師)、羅...</td>\n",
       "    </tr>\n",
       "  </tbody>\n",
       "</table>\n",
       "<p>39585 rows × 14 columns</p>\n",
       "</div>"
      ],
      "text/plain": [
       "      trending_date                                              title  \\\n",
       "0          17.14.11         Eminem - Walk On Water (Audio) ft. Beyoncé   \n",
       "1          17.14.11                      PLUSH - Bad Unboxing Fan Mail   \n",
       "2          17.14.11  Racist Superman | Rudy Mancuso, King Bach & Le...   \n",
       "3          17.14.11                           I Dare You: GOING BALD!?   \n",
       "4          17.14.11        Ed Sheeran - Perfect (Official Music Video)   \n",
       "...             ...                                                ...   \n",
       "40876      18.14.06                       HOW2: How to Solve a Mystery   \n",
       "40877      18.14.06                   Eli Lik Lik Episode 13 Partie 01   \n",
       "40878      18.14.06  KINGDOM HEARTS III – SQUARE ENIX E3 SHOWCASE 2...   \n",
       "40879      18.14.06                   Trump Advisor Grovels To Trudeau   \n",
       "40880      18.14.06                   【完整版】遇到恐怖情人該怎麼辦？2018.06.13小明星大跟班   \n",
       "\n",
       "          channel_title  category_id          publish_time  \\\n",
       "0            EminemVEVO           10  2017-11-10 17:00:03    \n",
       "1             iDubbbzTV           23  2017-11-13 17:00:00    \n",
       "2          Rudy Mancuso           23  2017-11-12 19:05:24    \n",
       "3              nigahiga           24  2017-11-12 18:01:41    \n",
       "4            Ed Sheeran           10  2017-11-09 11:04:14    \n",
       "...                 ...          ...                   ...   \n",
       "40876   Annoying Orange           24  2018-06-13 18:00:07    \n",
       "40877  Elhiwar Ettounsi           24  2018-06-13 19:01:18    \n",
       "40878    Kingdom Hearts           20  2018-06-11 17:30:53    \n",
       "40879   The Young Turks           25  2018-06-13 04:00:05    \n",
       "40880          我愛小明星大跟班           24  2018-06-13 16:00:03    \n",
       "\n",
       "                                                    tags     views    likes  \\\n",
       "0      Eminem|\"Walk\"|\"On\"|\"Water\"|\"Aftermath/Shady/In...  17158579   787425   \n",
       "1      plush|\"bad unboxing\"|\"unboxing\"|\"fan mail\"|\"id...   1014651   127794   \n",
       "2      racist superman|\"rudy\"|\"mancuso\"|\"king\"|\"bach\"...   3191434   146035   \n",
       "3      ryan|\"higa\"|\"higatv\"|\"nigahiga\"|\"i dare you\"|\"...   2095828   132239   \n",
       "4      edsheeran|\"ed sheeran\"|\"acoustic\"|\"live\"|\"cove...  33523622  1634130   \n",
       "...                                                  ...       ...      ...   \n",
       "40876  annoying orange|\"funny\"|\"fruit\"|\"talking\"|\"ani...     80685     1701   \n",
       "40877  hkayet tounsia|\"elhiwar ettounsi\"|\"denya okhra...    103339      460   \n",
       "40878  Kingdom Hearts|\"KH3\"|\"Kingdom Hearts 3\"|\"Froze...    773347    25900   \n",
       "40879  180612__TB02SorryExcuse|\"News\"|\"Politics\"|\"The...    115225     2115   \n",
       "40880  吳宗憲|\"吳姍儒\"|\"小明星大跟班\"|\"Sandy\"|\"Jacky wu\"|\"憲哥\"|\"中天...    107392      300   \n",
       "\n",
       "       dislikes  comment_count  comments_disabled  ratings_disabled  \\\n",
       "0         43420         125882              False             False   \n",
       "1          1688          13030              False             False   \n",
       "2          5339           8181              False             False   \n",
       "3          1989          17518              False             False   \n",
       "4         21082          85067              False             False   \n",
       "...         ...            ...                ...               ...   \n",
       "40876        99           1312              False             False   \n",
       "40877        66             51              False             False   \n",
       "40878       224           3881              False             False   \n",
       "40879       182           1672              False             False   \n",
       "40880        62            251              False             False   \n",
       "\n",
       "       video_error_or_removed  \\\n",
       "0                       False   \n",
       "1                       False   \n",
       "2                       False   \n",
       "3                       False   \n",
       "4                       False   \n",
       "...                       ...   \n",
       "40876                   False   \n",
       "40877                   False   \n",
       "40878                   False   \n",
       "40879                   False   \n",
       "40880                   False   \n",
       "\n",
       "                                             description  \n",
       "0      Eminem's new track Walk on Water ft. Beyoncé i...  \n",
       "1      STill got a lot of packages. Probably will las...  \n",
       "2      WATCH MY PREVIOUS VIDEO ▶ \\n\\nSUBSCRIBE ► http...  \n",
       "3      I know it's been a while since we did this sho...  \n",
       "4      🎧: https://ad.gt/yt-perfect\\n💰: https://atlant...  \n",
       "...                                                  ...  \n",
       "40876  🚨 NEW MERCH! http://amzn.to/annoyingorange 🚨➤ ...  \n",
       "40877  ► Retrouvez vos programmes préférés : https://...  \n",
       "40878  Find out more about Kingdom Hearts 3: https://...  \n",
       "40879  Peter Navarro isn’t talking so tough now. Ana ...  \n",
       "40880  藝人：李妍瑾、玉兔、班傑、LaLa、小優、少少專家：陳筱屏(律師)、Wendy(心理師)、羅...  \n",
       "\n",
       "[39585 rows x 14 columns]"
      ]
     },
     "execution_count": 10,
     "metadata": {},
     "output_type": "execute_result"
    }
   ],
   "source": [
    "# Replacing the string in the publish time for nothing\n",
    "\n",
    "# Replacing the T for nothing\n",
    "youtube['publish_time'] = youtube['publish_time'].str.replace('T',' ')\n",
    "\n",
    "# Replacing Z for nothing\n",
    "youtube['publish_time'] = youtube['publish_time'].str.replace('Z',' ')\n",
    "\n",
    "# Replacing Z for nothing\n",
    "youtube['publish_time'] = youtube['publish_time'].str.replace('.000','')\n",
    "youtube\n",
    "\n",
    "youtube\n"
   ]
  },
  {
   "cell_type": "code",
   "execution_count": 11,
   "metadata": {},
   "outputs": [
    {
     "data": {
      "text/html": [
       "<div>\n",
       "<style scoped>\n",
       "    .dataframe tbody tr th:only-of-type {\n",
       "        vertical-align: middle;\n",
       "    }\n",
       "\n",
       "    .dataframe tbody tr th {\n",
       "        vertical-align: top;\n",
       "    }\n",
       "\n",
       "    .dataframe thead th {\n",
       "        text-align: right;\n",
       "    }\n",
       "</style>\n",
       "<table border=\"1\" class=\"dataframe\">\n",
       "  <thead>\n",
       "    <tr style=\"text-align: right;\">\n",
       "      <th></th>\n",
       "      <th>trending_date</th>\n",
       "      <th>title</th>\n",
       "      <th>channel_title</th>\n",
       "      <th>category_id</th>\n",
       "      <th>publish_time</th>\n",
       "      <th>tags</th>\n",
       "      <th>views</th>\n",
       "      <th>likes</th>\n",
       "      <th>dislikes</th>\n",
       "      <th>comment_count</th>\n",
       "      <th>comments_disabled</th>\n",
       "      <th>ratings_disabled</th>\n",
       "      <th>video_error_or_removed</th>\n",
       "      <th>description</th>\n",
       "      <th>pub_date</th>\n",
       "      <th>pub_time</th>\n",
       "    </tr>\n",
       "  </thead>\n",
       "  <tbody>\n",
       "    <tr>\n",
       "      <th>0</th>\n",
       "      <td>17.14.11</td>\n",
       "      <td>Eminem - Walk On Water (Audio) ft. Beyoncé</td>\n",
       "      <td>EminemVEVO</td>\n",
       "      <td>10</td>\n",
       "      <td>2017-11-10 17:00:03</td>\n",
       "      <td>Eminem|\"Walk\"|\"On\"|\"Water\"|\"Aftermath/Shady/In...</td>\n",
       "      <td>17158579</td>\n",
       "      <td>787425</td>\n",
       "      <td>43420</td>\n",
       "      <td>125882</td>\n",
       "      <td>False</td>\n",
       "      <td>False</td>\n",
       "      <td>False</td>\n",
       "      <td>Eminem's new track Walk on Water ft. Beyoncé i...</td>\n",
       "      <td>2017-11-10</td>\n",
       "      <td>17:00:03</td>\n",
       "    </tr>\n",
       "    <tr>\n",
       "      <th>1</th>\n",
       "      <td>17.14.11</td>\n",
       "      <td>PLUSH - Bad Unboxing Fan Mail</td>\n",
       "      <td>iDubbbzTV</td>\n",
       "      <td>23</td>\n",
       "      <td>2017-11-13 17:00:00</td>\n",
       "      <td>plush|\"bad unboxing\"|\"unboxing\"|\"fan mail\"|\"id...</td>\n",
       "      <td>1014651</td>\n",
       "      <td>127794</td>\n",
       "      <td>1688</td>\n",
       "      <td>13030</td>\n",
       "      <td>False</td>\n",
       "      <td>False</td>\n",
       "      <td>False</td>\n",
       "      <td>STill got a lot of packages. Probably will las...</td>\n",
       "      <td>2017-11-13</td>\n",
       "      <td>17:00:00</td>\n",
       "    </tr>\n",
       "    <tr>\n",
       "      <th>2</th>\n",
       "      <td>17.14.11</td>\n",
       "      <td>Racist Superman | Rudy Mancuso, King Bach &amp; Le...</td>\n",
       "      <td>Rudy Mancuso</td>\n",
       "      <td>23</td>\n",
       "      <td>2017-11-12 19:05:24</td>\n",
       "      <td>racist superman|\"rudy\"|\"mancuso\"|\"king\"|\"bach\"...</td>\n",
       "      <td>3191434</td>\n",
       "      <td>146035</td>\n",
       "      <td>5339</td>\n",
       "      <td>8181</td>\n",
       "      <td>False</td>\n",
       "      <td>False</td>\n",
       "      <td>False</td>\n",
       "      <td>WATCH MY PREVIOUS VIDEO ▶ \\n\\nSUBSCRIBE ► http...</td>\n",
       "      <td>2017-11-12</td>\n",
       "      <td>19:05:24</td>\n",
       "    </tr>\n",
       "    <tr>\n",
       "      <th>3</th>\n",
       "      <td>17.14.11</td>\n",
       "      <td>I Dare You: GOING BALD!?</td>\n",
       "      <td>nigahiga</td>\n",
       "      <td>24</td>\n",
       "      <td>2017-11-12 18:01:41</td>\n",
       "      <td>ryan|\"higa\"|\"higatv\"|\"nigahiga\"|\"i dare you\"|\"...</td>\n",
       "      <td>2095828</td>\n",
       "      <td>132239</td>\n",
       "      <td>1989</td>\n",
       "      <td>17518</td>\n",
       "      <td>False</td>\n",
       "      <td>False</td>\n",
       "      <td>False</td>\n",
       "      <td>I know it's been a while since we did this sho...</td>\n",
       "      <td>2017-11-12</td>\n",
       "      <td>18:01:41</td>\n",
       "    </tr>\n",
       "    <tr>\n",
       "      <th>4</th>\n",
       "      <td>17.14.11</td>\n",
       "      <td>Ed Sheeran - Perfect (Official Music Video)</td>\n",
       "      <td>Ed Sheeran</td>\n",
       "      <td>10</td>\n",
       "      <td>2017-11-09 11:04:14</td>\n",
       "      <td>edsheeran|\"ed sheeran\"|\"acoustic\"|\"live\"|\"cove...</td>\n",
       "      <td>33523622</td>\n",
       "      <td>1634130</td>\n",
       "      <td>21082</td>\n",
       "      <td>85067</td>\n",
       "      <td>False</td>\n",
       "      <td>False</td>\n",
       "      <td>False</td>\n",
       "      <td>🎧: https://ad.gt/yt-perfect\\n💰: https://atlant...</td>\n",
       "      <td>2017-11-09</td>\n",
       "      <td>11:04:14</td>\n",
       "    </tr>\n",
       "    <tr>\n",
       "      <th>...</th>\n",
       "      <td>...</td>\n",
       "      <td>...</td>\n",
       "      <td>...</td>\n",
       "      <td>...</td>\n",
       "      <td>...</td>\n",
       "      <td>...</td>\n",
       "      <td>...</td>\n",
       "      <td>...</td>\n",
       "      <td>...</td>\n",
       "      <td>...</td>\n",
       "      <td>...</td>\n",
       "      <td>...</td>\n",
       "      <td>...</td>\n",
       "      <td>...</td>\n",
       "      <td>...</td>\n",
       "      <td>...</td>\n",
       "    </tr>\n",
       "    <tr>\n",
       "      <th>40876</th>\n",
       "      <td>18.14.06</td>\n",
       "      <td>HOW2: How to Solve a Mystery</td>\n",
       "      <td>Annoying Orange</td>\n",
       "      <td>24</td>\n",
       "      <td>2018-06-13 18:00:07</td>\n",
       "      <td>annoying orange|\"funny\"|\"fruit\"|\"talking\"|\"ani...</td>\n",
       "      <td>80685</td>\n",
       "      <td>1701</td>\n",
       "      <td>99</td>\n",
       "      <td>1312</td>\n",
       "      <td>False</td>\n",
       "      <td>False</td>\n",
       "      <td>False</td>\n",
       "      <td>🚨 NEW MERCH! http://amzn.to/annoyingorange 🚨➤ ...</td>\n",
       "      <td>2018-06-13</td>\n",
       "      <td>18:00:07</td>\n",
       "    </tr>\n",
       "    <tr>\n",
       "      <th>40877</th>\n",
       "      <td>18.14.06</td>\n",
       "      <td>Eli Lik Lik Episode 13 Partie 01</td>\n",
       "      <td>Elhiwar Ettounsi</td>\n",
       "      <td>24</td>\n",
       "      <td>2018-06-13 19:01:18</td>\n",
       "      <td>hkayet tounsia|\"elhiwar ettounsi\"|\"denya okhra...</td>\n",
       "      <td>103339</td>\n",
       "      <td>460</td>\n",
       "      <td>66</td>\n",
       "      <td>51</td>\n",
       "      <td>False</td>\n",
       "      <td>False</td>\n",
       "      <td>False</td>\n",
       "      <td>► Retrouvez vos programmes préférés : https://...</td>\n",
       "      <td>2018-06-13</td>\n",
       "      <td>19:01:18</td>\n",
       "    </tr>\n",
       "    <tr>\n",
       "      <th>40878</th>\n",
       "      <td>18.14.06</td>\n",
       "      <td>KINGDOM HEARTS III – SQUARE ENIX E3 SHOWCASE 2...</td>\n",
       "      <td>Kingdom Hearts</td>\n",
       "      <td>20</td>\n",
       "      <td>2018-06-11 17:30:53</td>\n",
       "      <td>Kingdom Hearts|\"KH3\"|\"Kingdom Hearts 3\"|\"Froze...</td>\n",
       "      <td>773347</td>\n",
       "      <td>25900</td>\n",
       "      <td>224</td>\n",
       "      <td>3881</td>\n",
       "      <td>False</td>\n",
       "      <td>False</td>\n",
       "      <td>False</td>\n",
       "      <td>Find out more about Kingdom Hearts 3: https://...</td>\n",
       "      <td>2018-06-11</td>\n",
       "      <td>17:30:53</td>\n",
       "    </tr>\n",
       "    <tr>\n",
       "      <th>40879</th>\n",
       "      <td>18.14.06</td>\n",
       "      <td>Trump Advisor Grovels To Trudeau</td>\n",
       "      <td>The Young Turks</td>\n",
       "      <td>25</td>\n",
       "      <td>2018-06-13 04:00:05</td>\n",
       "      <td>180612__TB02SorryExcuse|\"News\"|\"Politics\"|\"The...</td>\n",
       "      <td>115225</td>\n",
       "      <td>2115</td>\n",
       "      <td>182</td>\n",
       "      <td>1672</td>\n",
       "      <td>False</td>\n",
       "      <td>False</td>\n",
       "      <td>False</td>\n",
       "      <td>Peter Navarro isn’t talking so tough now. Ana ...</td>\n",
       "      <td>2018-06-13</td>\n",
       "      <td>04:00:05</td>\n",
       "    </tr>\n",
       "    <tr>\n",
       "      <th>40880</th>\n",
       "      <td>18.14.06</td>\n",
       "      <td>【完整版】遇到恐怖情人該怎麼辦？2018.06.13小明星大跟班</td>\n",
       "      <td>我愛小明星大跟班</td>\n",
       "      <td>24</td>\n",
       "      <td>2018-06-13 16:00:03</td>\n",
       "      <td>吳宗憲|\"吳姍儒\"|\"小明星大跟班\"|\"Sandy\"|\"Jacky wu\"|\"憲哥\"|\"中天...</td>\n",
       "      <td>107392</td>\n",
       "      <td>300</td>\n",
       "      <td>62</td>\n",
       "      <td>251</td>\n",
       "      <td>False</td>\n",
       "      <td>False</td>\n",
       "      <td>False</td>\n",
       "      <td>藝人：李妍瑾、玉兔、班傑、LaLa、小優、少少專家：陳筱屏(律師)、Wendy(心理師)、羅...</td>\n",
       "      <td>2018-06-13</td>\n",
       "      <td>16:00:03</td>\n",
       "    </tr>\n",
       "  </tbody>\n",
       "</table>\n",
       "<p>39585 rows × 16 columns</p>\n",
       "</div>"
      ],
      "text/plain": [
       "      trending_date                                              title  \\\n",
       "0          17.14.11         Eminem - Walk On Water (Audio) ft. Beyoncé   \n",
       "1          17.14.11                      PLUSH - Bad Unboxing Fan Mail   \n",
       "2          17.14.11  Racist Superman | Rudy Mancuso, King Bach & Le...   \n",
       "3          17.14.11                           I Dare You: GOING BALD!?   \n",
       "4          17.14.11        Ed Sheeran - Perfect (Official Music Video)   \n",
       "...             ...                                                ...   \n",
       "40876      18.14.06                       HOW2: How to Solve a Mystery   \n",
       "40877      18.14.06                   Eli Lik Lik Episode 13 Partie 01   \n",
       "40878      18.14.06  KINGDOM HEARTS III – SQUARE ENIX E3 SHOWCASE 2...   \n",
       "40879      18.14.06                   Trump Advisor Grovels To Trudeau   \n",
       "40880      18.14.06                   【完整版】遇到恐怖情人該怎麼辦？2018.06.13小明星大跟班   \n",
       "\n",
       "          channel_title  category_id          publish_time  \\\n",
       "0            EminemVEVO           10  2017-11-10 17:00:03    \n",
       "1             iDubbbzTV           23  2017-11-13 17:00:00    \n",
       "2          Rudy Mancuso           23  2017-11-12 19:05:24    \n",
       "3              nigahiga           24  2017-11-12 18:01:41    \n",
       "4            Ed Sheeran           10  2017-11-09 11:04:14    \n",
       "...                 ...          ...                   ...   \n",
       "40876   Annoying Orange           24  2018-06-13 18:00:07    \n",
       "40877  Elhiwar Ettounsi           24  2018-06-13 19:01:18    \n",
       "40878    Kingdom Hearts           20  2018-06-11 17:30:53    \n",
       "40879   The Young Turks           25  2018-06-13 04:00:05    \n",
       "40880          我愛小明星大跟班           24  2018-06-13 16:00:03    \n",
       "\n",
       "                                                    tags     views    likes  \\\n",
       "0      Eminem|\"Walk\"|\"On\"|\"Water\"|\"Aftermath/Shady/In...  17158579   787425   \n",
       "1      plush|\"bad unboxing\"|\"unboxing\"|\"fan mail\"|\"id...   1014651   127794   \n",
       "2      racist superman|\"rudy\"|\"mancuso\"|\"king\"|\"bach\"...   3191434   146035   \n",
       "3      ryan|\"higa\"|\"higatv\"|\"nigahiga\"|\"i dare you\"|\"...   2095828   132239   \n",
       "4      edsheeran|\"ed sheeran\"|\"acoustic\"|\"live\"|\"cove...  33523622  1634130   \n",
       "...                                                  ...       ...      ...   \n",
       "40876  annoying orange|\"funny\"|\"fruit\"|\"talking\"|\"ani...     80685     1701   \n",
       "40877  hkayet tounsia|\"elhiwar ettounsi\"|\"denya okhra...    103339      460   \n",
       "40878  Kingdom Hearts|\"KH3\"|\"Kingdom Hearts 3\"|\"Froze...    773347    25900   \n",
       "40879  180612__TB02SorryExcuse|\"News\"|\"Politics\"|\"The...    115225     2115   \n",
       "40880  吳宗憲|\"吳姍儒\"|\"小明星大跟班\"|\"Sandy\"|\"Jacky wu\"|\"憲哥\"|\"中天...    107392      300   \n",
       "\n",
       "       dislikes  comment_count  comments_disabled  ratings_disabled  \\\n",
       "0         43420         125882              False             False   \n",
       "1          1688          13030              False             False   \n",
       "2          5339           8181              False             False   \n",
       "3          1989          17518              False             False   \n",
       "4         21082          85067              False             False   \n",
       "...         ...            ...                ...               ...   \n",
       "40876        99           1312              False             False   \n",
       "40877        66             51              False             False   \n",
       "40878       224           3881              False             False   \n",
       "40879       182           1672              False             False   \n",
       "40880        62            251              False             False   \n",
       "\n",
       "       video_error_or_removed  \\\n",
       "0                       False   \n",
       "1                       False   \n",
       "2                       False   \n",
       "3                       False   \n",
       "4                       False   \n",
       "...                       ...   \n",
       "40876                   False   \n",
       "40877                   False   \n",
       "40878                   False   \n",
       "40879                   False   \n",
       "40880                   False   \n",
       "\n",
       "                                             description    pub_date  \\\n",
       "0      Eminem's new track Walk on Water ft. Beyoncé i...  2017-11-10   \n",
       "1      STill got a lot of packages. Probably will las...  2017-11-13   \n",
       "2      WATCH MY PREVIOUS VIDEO ▶ \\n\\nSUBSCRIBE ► http...  2017-11-12   \n",
       "3      I know it's been a while since we did this sho...  2017-11-12   \n",
       "4      🎧: https://ad.gt/yt-perfect\\n💰: https://atlant...  2017-11-09   \n",
       "...                                                  ...         ...   \n",
       "40876  🚨 NEW MERCH! http://amzn.to/annoyingorange 🚨➤ ...  2018-06-13   \n",
       "40877  ► Retrouvez vos programmes préférés : https://...  2018-06-13   \n",
       "40878  Find out more about Kingdom Hearts 3: https://...  2018-06-11   \n",
       "40879  Peter Navarro isn’t talking so tough now. Ana ...  2018-06-13   \n",
       "40880  藝人：李妍瑾、玉兔、班傑、LaLa、小優、少少專家：陳筱屏(律師)、Wendy(心理師)、羅...  2018-06-13   \n",
       "\n",
       "        pub_time  \n",
       "0      17:00:03   \n",
       "1      17:00:00   \n",
       "2      19:05:24   \n",
       "3      18:01:41   \n",
       "4      11:04:14   \n",
       "...          ...  \n",
       "40876  18:00:07   \n",
       "40877  19:01:18   \n",
       "40878  17:30:53   \n",
       "40879  04:00:05   \n",
       "40880  16:00:03   \n",
       "\n",
       "[39585 rows x 16 columns]"
      ]
     },
     "execution_count": 11,
     "metadata": {},
     "output_type": "execute_result"
    }
   ],
   "source": [
    "# Splitting date and time for a better analysis\n",
    "\n",
    "youtube['pub_date'], youtube['pub_time'] = youtube['publish_time'].str.split(' ', 1).str\n",
    "youtube"
   ]
  },
  {
   "cell_type": "code",
   "execution_count": 12,
   "metadata": {},
   "outputs": [
    {
     "data": {
      "text/plain": [
       "0        4\n",
       "1        0\n",
       "2        6\n",
       "3        6\n",
       "4        3\n",
       "        ..\n",
       "40876    2\n",
       "40877    2\n",
       "40878    0\n",
       "40879    2\n",
       "40880    2\n",
       "Name: weekday, Length: 39585, dtype: int64"
      ]
     },
     "execution_count": 12,
     "metadata": {},
     "output_type": "execute_result"
    }
   ],
   "source": [
    "# Creating another columns containing the days of the week from 0 to 6\n",
    "\n",
    "youtube['weekday'] = pd.to_datetime(youtube['pub_date']).apply(lambda x: x.weekday())\n",
    "youtube['weekday']"
   ]
  },
  {
   "cell_type": "code",
   "execution_count": 13,
   "metadata": {},
   "outputs": [
    {
     "name": "stdout",
     "output_type": "stream",
     "text": [
      "<class 'pandas.core.frame.DataFrame'>\n",
      "Int64Index: 39585 entries, 0 to 40880\n",
      "Data columns (total 17 columns):\n",
      " #   Column                  Non-Null Count  Dtype         \n",
      "---  ------                  --------------  -----         \n",
      " 0   trending_date           39585 non-null  object        \n",
      " 1   title                   39585 non-null  object        \n",
      " 2   channel_title           39585 non-null  object        \n",
      " 3   category_id             39585 non-null  int64         \n",
      " 4   publish_time            39585 non-null  object        \n",
      " 5   tags                    39585 non-null  object        \n",
      " 6   views                   39585 non-null  int64         \n",
      " 7   likes                   39585 non-null  int64         \n",
      " 8   dislikes                39585 non-null  int64         \n",
      " 9   comment_count           39585 non-null  int64         \n",
      " 10  comments_disabled       39585 non-null  bool          \n",
      " 11  ratings_disabled        39585 non-null  bool          \n",
      " 12  video_error_or_removed  39585 non-null  bool          \n",
      " 13  description             39585 non-null  object        \n",
      " 14  pub_date                39585 non-null  datetime64[ns]\n",
      " 15  pub_time                39585 non-null  datetime64[ns]\n",
      " 16  weekday                 39585 non-null  int64         \n",
      "dtypes: bool(3), datetime64[ns](2), int64(6), object(6)\n",
      "memory usage: 4.6+ MB\n"
     ]
    }
   ],
   "source": [
    "# Converting date and time as datetime\n",
    "\n",
    "youtube['pub_date'] = pd.to_datetime(youtube['pub_date'])\n",
    "youtube['pub_time'] = pd.to_datetime(youtube['pub_time'])\n",
    "youtube.info()"
   ]
  },
  {
   "cell_type": "code",
   "execution_count": 14,
   "metadata": {},
   "outputs": [
    {
     "data": {
      "text/html": [
       "<div>\n",
       "<style scoped>\n",
       "    .dataframe tbody tr th:only-of-type {\n",
       "        vertical-align: middle;\n",
       "    }\n",
       "\n",
       "    .dataframe tbody tr th {\n",
       "        vertical-align: top;\n",
       "    }\n",
       "\n",
       "    .dataframe thead th {\n",
       "        text-align: right;\n",
       "    }\n",
       "</style>\n",
       "<table border=\"1\" class=\"dataframe\">\n",
       "  <thead>\n",
       "    <tr style=\"text-align: right;\">\n",
       "      <th></th>\n",
       "      <th>trending_date</th>\n",
       "      <th>title</th>\n",
       "      <th>channel_title</th>\n",
       "      <th>category_id</th>\n",
       "      <th>publish_time</th>\n",
       "      <th>tags</th>\n",
       "      <th>views</th>\n",
       "      <th>likes</th>\n",
       "      <th>dislikes</th>\n",
       "      <th>comment_count</th>\n",
       "      <th>comments_disabled</th>\n",
       "      <th>ratings_disabled</th>\n",
       "      <th>video_error_or_removed</th>\n",
       "      <th>description</th>\n",
       "      <th>pub_date</th>\n",
       "      <th>pub_time</th>\n",
       "      <th>weekday</th>\n",
       "      <th>day</th>\n",
       "      <th>month</th>\n",
       "      <th>year</th>\n",
       "    </tr>\n",
       "  </thead>\n",
       "  <tbody>\n",
       "    <tr>\n",
       "      <th>0</th>\n",
       "      <td>17.14.11</td>\n",
       "      <td>Eminem - Walk On Water (Audio) ft. Beyoncé</td>\n",
       "      <td>EminemVEVO</td>\n",
       "      <td>10</td>\n",
       "      <td>2017-11-10 17:00:03</td>\n",
       "      <td>Eminem|\"Walk\"|\"On\"|\"Water\"|\"Aftermath/Shady/In...</td>\n",
       "      <td>17158579</td>\n",
       "      <td>787425</td>\n",
       "      <td>43420</td>\n",
       "      <td>125882</td>\n",
       "      <td>False</td>\n",
       "      <td>False</td>\n",
       "      <td>False</td>\n",
       "      <td>Eminem's new track Walk on Water ft. Beyoncé i...</td>\n",
       "      <td>2017-11-10</td>\n",
       "      <td>2020-12-05 17:00:03</td>\n",
       "      <td>4</td>\n",
       "      <td>10</td>\n",
       "      <td>11</td>\n",
       "      <td>2017</td>\n",
       "    </tr>\n",
       "    <tr>\n",
       "      <th>1</th>\n",
       "      <td>17.14.11</td>\n",
       "      <td>PLUSH - Bad Unboxing Fan Mail</td>\n",
       "      <td>iDubbbzTV</td>\n",
       "      <td>23</td>\n",
       "      <td>2017-11-13 17:00:00</td>\n",
       "      <td>plush|\"bad unboxing\"|\"unboxing\"|\"fan mail\"|\"id...</td>\n",
       "      <td>1014651</td>\n",
       "      <td>127794</td>\n",
       "      <td>1688</td>\n",
       "      <td>13030</td>\n",
       "      <td>False</td>\n",
       "      <td>False</td>\n",
       "      <td>False</td>\n",
       "      <td>STill got a lot of packages. Probably will las...</td>\n",
       "      <td>2017-11-13</td>\n",
       "      <td>2020-12-05 17:00:00</td>\n",
       "      <td>0</td>\n",
       "      <td>13</td>\n",
       "      <td>11</td>\n",
       "      <td>2017</td>\n",
       "    </tr>\n",
       "    <tr>\n",
       "      <th>2</th>\n",
       "      <td>17.14.11</td>\n",
       "      <td>Racist Superman | Rudy Mancuso, King Bach &amp; Le...</td>\n",
       "      <td>Rudy Mancuso</td>\n",
       "      <td>23</td>\n",
       "      <td>2017-11-12 19:05:24</td>\n",
       "      <td>racist superman|\"rudy\"|\"mancuso\"|\"king\"|\"bach\"...</td>\n",
       "      <td>3191434</td>\n",
       "      <td>146035</td>\n",
       "      <td>5339</td>\n",
       "      <td>8181</td>\n",
       "      <td>False</td>\n",
       "      <td>False</td>\n",
       "      <td>False</td>\n",
       "      <td>WATCH MY PREVIOUS VIDEO ▶ \\n\\nSUBSCRIBE ► http...</td>\n",
       "      <td>2017-11-12</td>\n",
       "      <td>2020-12-05 19:05:24</td>\n",
       "      <td>6</td>\n",
       "      <td>12</td>\n",
       "      <td>11</td>\n",
       "      <td>2017</td>\n",
       "    </tr>\n",
       "    <tr>\n",
       "      <th>3</th>\n",
       "      <td>17.14.11</td>\n",
       "      <td>I Dare You: GOING BALD!?</td>\n",
       "      <td>nigahiga</td>\n",
       "      <td>24</td>\n",
       "      <td>2017-11-12 18:01:41</td>\n",
       "      <td>ryan|\"higa\"|\"higatv\"|\"nigahiga\"|\"i dare you\"|\"...</td>\n",
       "      <td>2095828</td>\n",
       "      <td>132239</td>\n",
       "      <td>1989</td>\n",
       "      <td>17518</td>\n",
       "      <td>False</td>\n",
       "      <td>False</td>\n",
       "      <td>False</td>\n",
       "      <td>I know it's been a while since we did this sho...</td>\n",
       "      <td>2017-11-12</td>\n",
       "      <td>2020-12-05 18:01:41</td>\n",
       "      <td>6</td>\n",
       "      <td>12</td>\n",
       "      <td>11</td>\n",
       "      <td>2017</td>\n",
       "    </tr>\n",
       "    <tr>\n",
       "      <th>4</th>\n",
       "      <td>17.14.11</td>\n",
       "      <td>Ed Sheeran - Perfect (Official Music Video)</td>\n",
       "      <td>Ed Sheeran</td>\n",
       "      <td>10</td>\n",
       "      <td>2017-11-09 11:04:14</td>\n",
       "      <td>edsheeran|\"ed sheeran\"|\"acoustic\"|\"live\"|\"cove...</td>\n",
       "      <td>33523622</td>\n",
       "      <td>1634130</td>\n",
       "      <td>21082</td>\n",
       "      <td>85067</td>\n",
       "      <td>False</td>\n",
       "      <td>False</td>\n",
       "      <td>False</td>\n",
       "      <td>🎧: https://ad.gt/yt-perfect\\n💰: https://atlant...</td>\n",
       "      <td>2017-11-09</td>\n",
       "      <td>2020-12-05 11:04:14</td>\n",
       "      <td>3</td>\n",
       "      <td>9</td>\n",
       "      <td>11</td>\n",
       "      <td>2017</td>\n",
       "    </tr>\n",
       "    <tr>\n",
       "      <th>...</th>\n",
       "      <td>...</td>\n",
       "      <td>...</td>\n",
       "      <td>...</td>\n",
       "      <td>...</td>\n",
       "      <td>...</td>\n",
       "      <td>...</td>\n",
       "      <td>...</td>\n",
       "      <td>...</td>\n",
       "      <td>...</td>\n",
       "      <td>...</td>\n",
       "      <td>...</td>\n",
       "      <td>...</td>\n",
       "      <td>...</td>\n",
       "      <td>...</td>\n",
       "      <td>...</td>\n",
       "      <td>...</td>\n",
       "      <td>...</td>\n",
       "      <td>...</td>\n",
       "      <td>...</td>\n",
       "      <td>...</td>\n",
       "    </tr>\n",
       "    <tr>\n",
       "      <th>40876</th>\n",
       "      <td>18.14.06</td>\n",
       "      <td>HOW2: How to Solve a Mystery</td>\n",
       "      <td>Annoying Orange</td>\n",
       "      <td>24</td>\n",
       "      <td>2018-06-13 18:00:07</td>\n",
       "      <td>annoying orange|\"funny\"|\"fruit\"|\"talking\"|\"ani...</td>\n",
       "      <td>80685</td>\n",
       "      <td>1701</td>\n",
       "      <td>99</td>\n",
       "      <td>1312</td>\n",
       "      <td>False</td>\n",
       "      <td>False</td>\n",
       "      <td>False</td>\n",
       "      <td>🚨 NEW MERCH! http://amzn.to/annoyingorange 🚨➤ ...</td>\n",
       "      <td>2018-06-13</td>\n",
       "      <td>2020-12-05 18:00:07</td>\n",
       "      <td>2</td>\n",
       "      <td>13</td>\n",
       "      <td>6</td>\n",
       "      <td>2018</td>\n",
       "    </tr>\n",
       "    <tr>\n",
       "      <th>40877</th>\n",
       "      <td>18.14.06</td>\n",
       "      <td>Eli Lik Lik Episode 13 Partie 01</td>\n",
       "      <td>Elhiwar Ettounsi</td>\n",
       "      <td>24</td>\n",
       "      <td>2018-06-13 19:01:18</td>\n",
       "      <td>hkayet tounsia|\"elhiwar ettounsi\"|\"denya okhra...</td>\n",
       "      <td>103339</td>\n",
       "      <td>460</td>\n",
       "      <td>66</td>\n",
       "      <td>51</td>\n",
       "      <td>False</td>\n",
       "      <td>False</td>\n",
       "      <td>False</td>\n",
       "      <td>► Retrouvez vos programmes préférés : https://...</td>\n",
       "      <td>2018-06-13</td>\n",
       "      <td>2020-12-05 19:01:18</td>\n",
       "      <td>2</td>\n",
       "      <td>13</td>\n",
       "      <td>6</td>\n",
       "      <td>2018</td>\n",
       "    </tr>\n",
       "    <tr>\n",
       "      <th>40878</th>\n",
       "      <td>18.14.06</td>\n",
       "      <td>KINGDOM HEARTS III – SQUARE ENIX E3 SHOWCASE 2...</td>\n",
       "      <td>Kingdom Hearts</td>\n",
       "      <td>20</td>\n",
       "      <td>2018-06-11 17:30:53</td>\n",
       "      <td>Kingdom Hearts|\"KH3\"|\"Kingdom Hearts 3\"|\"Froze...</td>\n",
       "      <td>773347</td>\n",
       "      <td>25900</td>\n",
       "      <td>224</td>\n",
       "      <td>3881</td>\n",
       "      <td>False</td>\n",
       "      <td>False</td>\n",
       "      <td>False</td>\n",
       "      <td>Find out more about Kingdom Hearts 3: https://...</td>\n",
       "      <td>2018-06-11</td>\n",
       "      <td>2020-12-05 17:30:53</td>\n",
       "      <td>0</td>\n",
       "      <td>11</td>\n",
       "      <td>6</td>\n",
       "      <td>2018</td>\n",
       "    </tr>\n",
       "    <tr>\n",
       "      <th>40879</th>\n",
       "      <td>18.14.06</td>\n",
       "      <td>Trump Advisor Grovels To Trudeau</td>\n",
       "      <td>The Young Turks</td>\n",
       "      <td>25</td>\n",
       "      <td>2018-06-13 04:00:05</td>\n",
       "      <td>180612__TB02SorryExcuse|\"News\"|\"Politics\"|\"The...</td>\n",
       "      <td>115225</td>\n",
       "      <td>2115</td>\n",
       "      <td>182</td>\n",
       "      <td>1672</td>\n",
       "      <td>False</td>\n",
       "      <td>False</td>\n",
       "      <td>False</td>\n",
       "      <td>Peter Navarro isn’t talking so tough now. Ana ...</td>\n",
       "      <td>2018-06-13</td>\n",
       "      <td>2020-12-05 04:00:05</td>\n",
       "      <td>2</td>\n",
       "      <td>13</td>\n",
       "      <td>6</td>\n",
       "      <td>2018</td>\n",
       "    </tr>\n",
       "    <tr>\n",
       "      <th>40880</th>\n",
       "      <td>18.14.06</td>\n",
       "      <td>【完整版】遇到恐怖情人該怎麼辦？2018.06.13小明星大跟班</td>\n",
       "      <td>我愛小明星大跟班</td>\n",
       "      <td>24</td>\n",
       "      <td>2018-06-13 16:00:03</td>\n",
       "      <td>吳宗憲|\"吳姍儒\"|\"小明星大跟班\"|\"Sandy\"|\"Jacky wu\"|\"憲哥\"|\"中天...</td>\n",
       "      <td>107392</td>\n",
       "      <td>300</td>\n",
       "      <td>62</td>\n",
       "      <td>251</td>\n",
       "      <td>False</td>\n",
       "      <td>False</td>\n",
       "      <td>False</td>\n",
       "      <td>藝人：李妍瑾、玉兔、班傑、LaLa、小優、少少專家：陳筱屏(律師)、Wendy(心理師)、羅...</td>\n",
       "      <td>2018-06-13</td>\n",
       "      <td>2020-12-05 16:00:03</td>\n",
       "      <td>2</td>\n",
       "      <td>13</td>\n",
       "      <td>6</td>\n",
       "      <td>2018</td>\n",
       "    </tr>\n",
       "  </tbody>\n",
       "</table>\n",
       "<p>39585 rows × 20 columns</p>\n",
       "</div>"
      ],
      "text/plain": [
       "      trending_date                                              title  \\\n",
       "0          17.14.11         Eminem - Walk On Water (Audio) ft. Beyoncé   \n",
       "1          17.14.11                      PLUSH - Bad Unboxing Fan Mail   \n",
       "2          17.14.11  Racist Superman | Rudy Mancuso, King Bach & Le...   \n",
       "3          17.14.11                           I Dare You: GOING BALD!?   \n",
       "4          17.14.11        Ed Sheeran - Perfect (Official Music Video)   \n",
       "...             ...                                                ...   \n",
       "40876      18.14.06                       HOW2: How to Solve a Mystery   \n",
       "40877      18.14.06                   Eli Lik Lik Episode 13 Partie 01   \n",
       "40878      18.14.06  KINGDOM HEARTS III – SQUARE ENIX E3 SHOWCASE 2...   \n",
       "40879      18.14.06                   Trump Advisor Grovels To Trudeau   \n",
       "40880      18.14.06                   【完整版】遇到恐怖情人該怎麼辦？2018.06.13小明星大跟班   \n",
       "\n",
       "          channel_title  category_id          publish_time  \\\n",
       "0            EminemVEVO           10  2017-11-10 17:00:03    \n",
       "1             iDubbbzTV           23  2017-11-13 17:00:00    \n",
       "2          Rudy Mancuso           23  2017-11-12 19:05:24    \n",
       "3              nigahiga           24  2017-11-12 18:01:41    \n",
       "4            Ed Sheeran           10  2017-11-09 11:04:14    \n",
       "...                 ...          ...                   ...   \n",
       "40876   Annoying Orange           24  2018-06-13 18:00:07    \n",
       "40877  Elhiwar Ettounsi           24  2018-06-13 19:01:18    \n",
       "40878    Kingdom Hearts           20  2018-06-11 17:30:53    \n",
       "40879   The Young Turks           25  2018-06-13 04:00:05    \n",
       "40880          我愛小明星大跟班           24  2018-06-13 16:00:03    \n",
       "\n",
       "                                                    tags     views    likes  \\\n",
       "0      Eminem|\"Walk\"|\"On\"|\"Water\"|\"Aftermath/Shady/In...  17158579   787425   \n",
       "1      plush|\"bad unboxing\"|\"unboxing\"|\"fan mail\"|\"id...   1014651   127794   \n",
       "2      racist superman|\"rudy\"|\"mancuso\"|\"king\"|\"bach\"...   3191434   146035   \n",
       "3      ryan|\"higa\"|\"higatv\"|\"nigahiga\"|\"i dare you\"|\"...   2095828   132239   \n",
       "4      edsheeran|\"ed sheeran\"|\"acoustic\"|\"live\"|\"cove...  33523622  1634130   \n",
       "...                                                  ...       ...      ...   \n",
       "40876  annoying orange|\"funny\"|\"fruit\"|\"talking\"|\"ani...     80685     1701   \n",
       "40877  hkayet tounsia|\"elhiwar ettounsi\"|\"denya okhra...    103339      460   \n",
       "40878  Kingdom Hearts|\"KH3\"|\"Kingdom Hearts 3\"|\"Froze...    773347    25900   \n",
       "40879  180612__TB02SorryExcuse|\"News\"|\"Politics\"|\"The...    115225     2115   \n",
       "40880  吳宗憲|\"吳姍儒\"|\"小明星大跟班\"|\"Sandy\"|\"Jacky wu\"|\"憲哥\"|\"中天...    107392      300   \n",
       "\n",
       "       dislikes  comment_count  comments_disabled  ratings_disabled  \\\n",
       "0         43420         125882              False             False   \n",
       "1          1688          13030              False             False   \n",
       "2          5339           8181              False             False   \n",
       "3          1989          17518              False             False   \n",
       "4         21082          85067              False             False   \n",
       "...         ...            ...                ...               ...   \n",
       "40876        99           1312              False             False   \n",
       "40877        66             51              False             False   \n",
       "40878       224           3881              False             False   \n",
       "40879       182           1672              False             False   \n",
       "40880        62            251              False             False   \n",
       "\n",
       "       video_error_or_removed  \\\n",
       "0                       False   \n",
       "1                       False   \n",
       "2                       False   \n",
       "3                       False   \n",
       "4                       False   \n",
       "...                       ...   \n",
       "40876                   False   \n",
       "40877                   False   \n",
       "40878                   False   \n",
       "40879                   False   \n",
       "40880                   False   \n",
       "\n",
       "                                             description   pub_date  \\\n",
       "0      Eminem's new track Walk on Water ft. Beyoncé i... 2017-11-10   \n",
       "1      STill got a lot of packages. Probably will las... 2017-11-13   \n",
       "2      WATCH MY PREVIOUS VIDEO ▶ \\n\\nSUBSCRIBE ► http... 2017-11-12   \n",
       "3      I know it's been a while since we did this sho... 2017-11-12   \n",
       "4      🎧: https://ad.gt/yt-perfect\\n💰: https://atlant... 2017-11-09   \n",
       "...                                                  ...        ...   \n",
       "40876  🚨 NEW MERCH! http://amzn.to/annoyingorange 🚨➤ ... 2018-06-13   \n",
       "40877  ► Retrouvez vos programmes préférés : https://... 2018-06-13   \n",
       "40878  Find out more about Kingdom Hearts 3: https://... 2018-06-11   \n",
       "40879  Peter Navarro isn’t talking so tough now. Ana ... 2018-06-13   \n",
       "40880  藝人：李妍瑾、玉兔、班傑、LaLa、小優、少少專家：陳筱屏(律師)、Wendy(心理師)、羅... 2018-06-13   \n",
       "\n",
       "                 pub_time  weekday  day  month  year  \n",
       "0     2020-12-05 17:00:03        4   10     11  2017  \n",
       "1     2020-12-05 17:00:00        0   13     11  2017  \n",
       "2     2020-12-05 19:05:24        6   12     11  2017  \n",
       "3     2020-12-05 18:01:41        6   12     11  2017  \n",
       "4     2020-12-05 11:04:14        3    9     11  2017  \n",
       "...                   ...      ...  ...    ...   ...  \n",
       "40876 2020-12-05 18:00:07        2   13      6  2018  \n",
       "40877 2020-12-05 19:01:18        2   13      6  2018  \n",
       "40878 2020-12-05 17:30:53        0   11      6  2018  \n",
       "40879 2020-12-05 04:00:05        2   13      6  2018  \n",
       "40880 2020-12-05 16:00:03        2   13      6  2018  \n",
       "\n",
       "[39585 rows x 20 columns]"
      ]
     },
     "execution_count": 14,
     "metadata": {},
     "output_type": "execute_result"
    }
   ],
   "source": [
    "# Divind the column publish date into three columns day, month and year\n",
    "\n",
    "youtube['day'] = youtube['pub_date'].dt.day\n",
    "youtube['month'] = youtube['pub_date'].dt.month\n",
    "youtube['year'] = youtube['pub_date'].dt.year\n",
    "youtube"
   ]
  },
  {
   "cell_type": "code",
   "execution_count": 15,
   "metadata": {},
   "outputs": [
    {
     "name": "stdout",
     "output_type": "stream",
     "text": [
      "<class 'pandas.core.frame.DataFrame'>\n",
      "Int64Index: 39585 entries, 0 to 40880\n",
      "Data columns (total 23 columns):\n",
      " #   Column                  Non-Null Count  Dtype         \n",
      "---  ------                  --------------  -----         \n",
      " 0   trending_date           39585 non-null  object        \n",
      " 1   title                   39585 non-null  object        \n",
      " 2   channel_title           39585 non-null  object        \n",
      " 3   category_id             39585 non-null  int64         \n",
      " 4   publish_time            39585 non-null  object        \n",
      " 5   tags                    39585 non-null  object        \n",
      " 6   views                   39585 non-null  int64         \n",
      " 7   likes                   39585 non-null  int64         \n",
      " 8   dislikes                39585 non-null  int64         \n",
      " 9   comment_count           39585 non-null  int64         \n",
      " 10  comments_disabled       39585 non-null  bool          \n",
      " 11  ratings_disabled        39585 non-null  bool          \n",
      " 12  video_error_or_removed  39585 non-null  bool          \n",
      " 13  description             39585 non-null  object        \n",
      " 14  pub_date                39585 non-null  datetime64[ns]\n",
      " 15  pub_time                39585 non-null  datetime64[ns]\n",
      " 16  weekday                 39585 non-null  int64         \n",
      " 17  day                     39585 non-null  int64         \n",
      " 18  month                   39585 non-null  int64         \n",
      " 19  year                    39585 non-null  int64         \n",
      " 20  hour                    39585 non-null  int64         \n",
      " 21  minute                  39585 non-null  int64         \n",
      " 22  second                  39585 non-null  int64         \n",
      "dtypes: bool(3), datetime64[ns](2), int64(12), object(6)\n",
      "memory usage: 6.5+ MB\n"
     ]
    }
   ],
   "source": [
    "# Splitting hour, minute and second from Time\n",
    "\n",
    "youtube['hour'] = youtube['pub_time'].dt.hour\n",
    "youtube['minute'] = youtube['pub_time'].dt.minute\n",
    "youtube['second'] = youtube['pub_time'].dt.second\n",
    "youtube.info()"
   ]
  },
  {
   "cell_type": "code",
   "execution_count": 16,
   "metadata": {},
   "outputs": [
    {
     "name": "stdout",
     "output_type": "stream",
     "text": [
      "<class 'pandas.core.frame.DataFrame'>\n",
      "Int64Index: 39585 entries, 0 to 40880\n",
      "Data columns (total 23 columns):\n",
      " #   Column                  Non-Null Count  Dtype         \n",
      "---  ------                  --------------  -----         \n",
      " 0   trending_date           39585 non-null  object        \n",
      " 1   title                   39585 non-null  object        \n",
      " 2   channel_title           39585 non-null  object        \n",
      " 3   category_id             39585 non-null  int64         \n",
      " 4   publish_time            39585 non-null  object        \n",
      " 5   tags                    39585 non-null  object        \n",
      " 6   views                   39585 non-null  int64         \n",
      " 7   likes                   39585 non-null  int64         \n",
      " 8   dislikes                39585 non-null  int64         \n",
      " 9   comment_count           39585 non-null  int64         \n",
      " 10  comments_disabled       39585 non-null  int64         \n",
      " 11  ratings_disabled        39585 non-null  int64         \n",
      " 12  video_error_or_removed  39585 non-null  int64         \n",
      " 13  description             39585 non-null  object        \n",
      " 14  pub_date                39585 non-null  datetime64[ns]\n",
      " 15  pub_time                39585 non-null  datetime64[ns]\n",
      " 16  weekday                 39585 non-null  int64         \n",
      " 17  day                     39585 non-null  int64         \n",
      " 18  month                   39585 non-null  int64         \n",
      " 19  year                    39585 non-null  int64         \n",
      " 20  hour                    39585 non-null  int64         \n",
      " 21  minute                  39585 non-null  int64         \n",
      " 22  second                  39585 non-null  int64         \n",
      "dtypes: datetime64[ns](2), int64(15), object(6)\n",
      "memory usage: 7.2+ MB\n"
     ]
    }
   ],
   "source": [
    "# Converting data type of the boolean values as int because we are going to consider False = 0 and True = 1\n",
    "\n",
    "youtube['comments_disabled'] = youtube.comments_disabled.astype(int)\n",
    "youtube['ratings_disabled'] = youtube.comments_disabled.astype(int)\n",
    "youtube['video_error_or_removed'] = youtube.comments_disabled.astype(int)\n",
    "youtube.info()"
   ]
  },
  {
   "cell_type": "code",
   "execution_count": 17,
   "metadata": {},
   "outputs": [
    {
     "data": {
      "text/html": [
       "<div>\n",
       "<style scoped>\n",
       "    .dataframe tbody tr th:only-of-type {\n",
       "        vertical-align: middle;\n",
       "    }\n",
       "\n",
       "    .dataframe tbody tr th {\n",
       "        vertical-align: top;\n",
       "    }\n",
       "\n",
       "    .dataframe thead th {\n",
       "        text-align: right;\n",
       "    }\n",
       "</style>\n",
       "<table border=\"1\" class=\"dataframe\">\n",
       "  <thead>\n",
       "    <tr style=\"text-align: right;\">\n",
       "      <th></th>\n",
       "      <th>trending_date</th>\n",
       "      <th>title</th>\n",
       "      <th>channel_title</th>\n",
       "      <th>category_id</th>\n",
       "      <th>publish_time</th>\n",
       "      <th>tags</th>\n",
       "      <th>views</th>\n",
       "      <th>likes</th>\n",
       "      <th>dislikes</th>\n",
       "      <th>comment_count</th>\n",
       "      <th>...</th>\n",
       "      <th>description</th>\n",
       "      <th>pub_date</th>\n",
       "      <th>pub_time</th>\n",
       "      <th>weekday</th>\n",
       "      <th>day</th>\n",
       "      <th>month</th>\n",
       "      <th>year</th>\n",
       "      <th>hour</th>\n",
       "      <th>minute</th>\n",
       "      <th>second</th>\n",
       "    </tr>\n",
       "  </thead>\n",
       "  <tbody>\n",
       "    <tr>\n",
       "      <th>0</th>\n",
       "      <td>17.14.11</td>\n",
       "      <td>Eminem - Walk On Water (Audio) ft. Beyoncé</td>\n",
       "      <td>EminemVEVO</td>\n",
       "      <td>10</td>\n",
       "      <td>2017-11-10 17:00:03</td>\n",
       "      <td>Eminem|\"Walk\"|\"On\"|\"Water\"|\"Aftermath/Shady/In...</td>\n",
       "      <td>17158579</td>\n",
       "      <td>787425</td>\n",
       "      <td>43420</td>\n",
       "      <td>125882</td>\n",
       "      <td>...</td>\n",
       "      <td>Eminem's new track Walk on Water ft. Beyoncé i...</td>\n",
       "      <td>2017-11-10</td>\n",
       "      <td>2020-12-05 17:00:03</td>\n",
       "      <td>4</td>\n",
       "      <td>10</td>\n",
       "      <td>11</td>\n",
       "      <td>2017</td>\n",
       "      <td>17</td>\n",
       "      <td>0</td>\n",
       "      <td>3</td>\n",
       "    </tr>\n",
       "    <tr>\n",
       "      <th>1</th>\n",
       "      <td>17.14.11</td>\n",
       "      <td>PLUSH - Bad Unboxing Fan Mail</td>\n",
       "      <td>iDubbbzTV</td>\n",
       "      <td>23</td>\n",
       "      <td>2017-11-13 17:00:00</td>\n",
       "      <td>plush|\"bad unboxing\"|\"unboxing\"|\"fan mail\"|\"id...</td>\n",
       "      <td>1014651</td>\n",
       "      <td>127794</td>\n",
       "      <td>1688</td>\n",
       "      <td>13030</td>\n",
       "      <td>...</td>\n",
       "      <td>STill got a lot of packages. Probably will las...</td>\n",
       "      <td>2017-11-13</td>\n",
       "      <td>2020-12-05 17:00:00</td>\n",
       "      <td>0</td>\n",
       "      <td>13</td>\n",
       "      <td>11</td>\n",
       "      <td>2017</td>\n",
       "      <td>17</td>\n",
       "      <td>0</td>\n",
       "      <td>0</td>\n",
       "    </tr>\n",
       "    <tr>\n",
       "      <th>2</th>\n",
       "      <td>17.14.11</td>\n",
       "      <td>Racist Superman | Rudy Mancuso, King Bach &amp; Le...</td>\n",
       "      <td>Rudy Mancuso</td>\n",
       "      <td>23</td>\n",
       "      <td>2017-11-12 19:05:24</td>\n",
       "      <td>racist superman|\"rudy\"|\"mancuso\"|\"king\"|\"bach\"...</td>\n",
       "      <td>3191434</td>\n",
       "      <td>146035</td>\n",
       "      <td>5339</td>\n",
       "      <td>8181</td>\n",
       "      <td>...</td>\n",
       "      <td>WATCH MY PREVIOUS VIDEO ▶ \\n\\nSUBSCRIBE ► http...</td>\n",
       "      <td>2017-11-12</td>\n",
       "      <td>2020-12-05 19:05:24</td>\n",
       "      <td>6</td>\n",
       "      <td>12</td>\n",
       "      <td>11</td>\n",
       "      <td>2017</td>\n",
       "      <td>19</td>\n",
       "      <td>5</td>\n",
       "      <td>24</td>\n",
       "    </tr>\n",
       "    <tr>\n",
       "      <th>3</th>\n",
       "      <td>17.14.11</td>\n",
       "      <td>I Dare You: GOING BALD!?</td>\n",
       "      <td>nigahiga</td>\n",
       "      <td>24</td>\n",
       "      <td>2017-11-12 18:01:41</td>\n",
       "      <td>ryan|\"higa\"|\"higatv\"|\"nigahiga\"|\"i dare you\"|\"...</td>\n",
       "      <td>2095828</td>\n",
       "      <td>132239</td>\n",
       "      <td>1989</td>\n",
       "      <td>17518</td>\n",
       "      <td>...</td>\n",
       "      <td>I know it's been a while since we did this sho...</td>\n",
       "      <td>2017-11-12</td>\n",
       "      <td>2020-12-05 18:01:41</td>\n",
       "      <td>6</td>\n",
       "      <td>12</td>\n",
       "      <td>11</td>\n",
       "      <td>2017</td>\n",
       "      <td>18</td>\n",
       "      <td>1</td>\n",
       "      <td>41</td>\n",
       "    </tr>\n",
       "    <tr>\n",
       "      <th>4</th>\n",
       "      <td>17.14.11</td>\n",
       "      <td>Ed Sheeran - Perfect (Official Music Video)</td>\n",
       "      <td>Ed Sheeran</td>\n",
       "      <td>10</td>\n",
       "      <td>2017-11-09 11:04:14</td>\n",
       "      <td>edsheeran|\"ed sheeran\"|\"acoustic\"|\"live\"|\"cove...</td>\n",
       "      <td>33523622</td>\n",
       "      <td>1634130</td>\n",
       "      <td>21082</td>\n",
       "      <td>85067</td>\n",
       "      <td>...</td>\n",
       "      <td>🎧: https://ad.gt/yt-perfect\\n💰: https://atlant...</td>\n",
       "      <td>2017-11-09</td>\n",
       "      <td>2020-12-05 11:04:14</td>\n",
       "      <td>3</td>\n",
       "      <td>9</td>\n",
       "      <td>11</td>\n",
       "      <td>2017</td>\n",
       "      <td>11</td>\n",
       "      <td>4</td>\n",
       "      <td>14</td>\n",
       "    </tr>\n",
       "    <tr>\n",
       "      <th>...</th>\n",
       "      <td>...</td>\n",
       "      <td>...</td>\n",
       "      <td>...</td>\n",
       "      <td>...</td>\n",
       "      <td>...</td>\n",
       "      <td>...</td>\n",
       "      <td>...</td>\n",
       "      <td>...</td>\n",
       "      <td>...</td>\n",
       "      <td>...</td>\n",
       "      <td>...</td>\n",
       "      <td>...</td>\n",
       "      <td>...</td>\n",
       "      <td>...</td>\n",
       "      <td>...</td>\n",
       "      <td>...</td>\n",
       "      <td>...</td>\n",
       "      <td>...</td>\n",
       "      <td>...</td>\n",
       "      <td>...</td>\n",
       "      <td>...</td>\n",
       "    </tr>\n",
       "    <tr>\n",
       "      <th>40876</th>\n",
       "      <td>18.14.06</td>\n",
       "      <td>HOW2: How to Solve a Mystery</td>\n",
       "      <td>Annoying Orange</td>\n",
       "      <td>24</td>\n",
       "      <td>2018-06-13 18:00:07</td>\n",
       "      <td>annoying orange|\"funny\"|\"fruit\"|\"talking\"|\"ani...</td>\n",
       "      <td>80685</td>\n",
       "      <td>1701</td>\n",
       "      <td>99</td>\n",
       "      <td>1312</td>\n",
       "      <td>...</td>\n",
       "      <td>🚨 NEW MERCH! http://amzn.to/annoyingorange 🚨➤ ...</td>\n",
       "      <td>2018-06-13</td>\n",
       "      <td>2020-12-05 18:00:07</td>\n",
       "      <td>2</td>\n",
       "      <td>13</td>\n",
       "      <td>6</td>\n",
       "      <td>2018</td>\n",
       "      <td>18</td>\n",
       "      <td>0</td>\n",
       "      <td>7</td>\n",
       "    </tr>\n",
       "    <tr>\n",
       "      <th>40877</th>\n",
       "      <td>18.14.06</td>\n",
       "      <td>Eli Lik Lik Episode 13 Partie 01</td>\n",
       "      <td>Elhiwar Ettounsi</td>\n",
       "      <td>24</td>\n",
       "      <td>2018-06-13 19:01:18</td>\n",
       "      <td>hkayet tounsia|\"elhiwar ettounsi\"|\"denya okhra...</td>\n",
       "      <td>103339</td>\n",
       "      <td>460</td>\n",
       "      <td>66</td>\n",
       "      <td>51</td>\n",
       "      <td>...</td>\n",
       "      <td>► Retrouvez vos programmes préférés : https://...</td>\n",
       "      <td>2018-06-13</td>\n",
       "      <td>2020-12-05 19:01:18</td>\n",
       "      <td>2</td>\n",
       "      <td>13</td>\n",
       "      <td>6</td>\n",
       "      <td>2018</td>\n",
       "      <td>19</td>\n",
       "      <td>1</td>\n",
       "      <td>18</td>\n",
       "    </tr>\n",
       "    <tr>\n",
       "      <th>40878</th>\n",
       "      <td>18.14.06</td>\n",
       "      <td>KINGDOM HEARTS III – SQUARE ENIX E3 SHOWCASE 2...</td>\n",
       "      <td>Kingdom Hearts</td>\n",
       "      <td>20</td>\n",
       "      <td>2018-06-11 17:30:53</td>\n",
       "      <td>Kingdom Hearts|\"KH3\"|\"Kingdom Hearts 3\"|\"Froze...</td>\n",
       "      <td>773347</td>\n",
       "      <td>25900</td>\n",
       "      <td>224</td>\n",
       "      <td>3881</td>\n",
       "      <td>...</td>\n",
       "      <td>Find out more about Kingdom Hearts 3: https://...</td>\n",
       "      <td>2018-06-11</td>\n",
       "      <td>2020-12-05 17:30:53</td>\n",
       "      <td>0</td>\n",
       "      <td>11</td>\n",
       "      <td>6</td>\n",
       "      <td>2018</td>\n",
       "      <td>17</td>\n",
       "      <td>30</td>\n",
       "      <td>53</td>\n",
       "    </tr>\n",
       "    <tr>\n",
       "      <th>40879</th>\n",
       "      <td>18.14.06</td>\n",
       "      <td>Trump Advisor Grovels To Trudeau</td>\n",
       "      <td>The Young Turks</td>\n",
       "      <td>25</td>\n",
       "      <td>2018-06-13 04:00:05</td>\n",
       "      <td>180612__TB02SorryExcuse|\"News\"|\"Politics\"|\"The...</td>\n",
       "      <td>115225</td>\n",
       "      <td>2115</td>\n",
       "      <td>182</td>\n",
       "      <td>1672</td>\n",
       "      <td>...</td>\n",
       "      <td>Peter Navarro isn’t talking so tough now. Ana ...</td>\n",
       "      <td>2018-06-13</td>\n",
       "      <td>2020-12-05 04:00:05</td>\n",
       "      <td>2</td>\n",
       "      <td>13</td>\n",
       "      <td>6</td>\n",
       "      <td>2018</td>\n",
       "      <td>4</td>\n",
       "      <td>0</td>\n",
       "      <td>5</td>\n",
       "    </tr>\n",
       "    <tr>\n",
       "      <th>40880</th>\n",
       "      <td>18.14.06</td>\n",
       "      <td>【完整版】遇到恐怖情人該怎麼辦？2018.06.13小明星大跟班</td>\n",
       "      <td>我愛小明星大跟班</td>\n",
       "      <td>24</td>\n",
       "      <td>2018-06-13 16:00:03</td>\n",
       "      <td>吳宗憲|\"吳姍儒\"|\"小明星大跟班\"|\"Sandy\"|\"Jacky wu\"|\"憲哥\"|\"中天...</td>\n",
       "      <td>107392</td>\n",
       "      <td>300</td>\n",
       "      <td>62</td>\n",
       "      <td>251</td>\n",
       "      <td>...</td>\n",
       "      <td>藝人：李妍瑾、玉兔、班傑、LaLa、小優、少少專家：陳筱屏(律師)、Wendy(心理師)、羅...</td>\n",
       "      <td>2018-06-13</td>\n",
       "      <td>2020-12-05 16:00:03</td>\n",
       "      <td>2</td>\n",
       "      <td>13</td>\n",
       "      <td>6</td>\n",
       "      <td>2018</td>\n",
       "      <td>16</td>\n",
       "      <td>0</td>\n",
       "      <td>3</td>\n",
       "    </tr>\n",
       "  </tbody>\n",
       "</table>\n",
       "<p>39585 rows × 23 columns</p>\n",
       "</div>"
      ],
      "text/plain": [
       "      trending_date                                              title  \\\n",
       "0          17.14.11         Eminem - Walk On Water (Audio) ft. Beyoncé   \n",
       "1          17.14.11                      PLUSH - Bad Unboxing Fan Mail   \n",
       "2          17.14.11  Racist Superman | Rudy Mancuso, King Bach & Le...   \n",
       "3          17.14.11                           I Dare You: GOING BALD!?   \n",
       "4          17.14.11        Ed Sheeran - Perfect (Official Music Video)   \n",
       "...             ...                                                ...   \n",
       "40876      18.14.06                       HOW2: How to Solve a Mystery   \n",
       "40877      18.14.06                   Eli Lik Lik Episode 13 Partie 01   \n",
       "40878      18.14.06  KINGDOM HEARTS III – SQUARE ENIX E3 SHOWCASE 2...   \n",
       "40879      18.14.06                   Trump Advisor Grovels To Trudeau   \n",
       "40880      18.14.06                   【完整版】遇到恐怖情人該怎麼辦？2018.06.13小明星大跟班   \n",
       "\n",
       "          channel_title  category_id          publish_time  \\\n",
       "0            EminemVEVO           10  2017-11-10 17:00:03    \n",
       "1             iDubbbzTV           23  2017-11-13 17:00:00    \n",
       "2          Rudy Mancuso           23  2017-11-12 19:05:24    \n",
       "3              nigahiga           24  2017-11-12 18:01:41    \n",
       "4            Ed Sheeran           10  2017-11-09 11:04:14    \n",
       "...                 ...          ...                   ...   \n",
       "40876   Annoying Orange           24  2018-06-13 18:00:07    \n",
       "40877  Elhiwar Ettounsi           24  2018-06-13 19:01:18    \n",
       "40878    Kingdom Hearts           20  2018-06-11 17:30:53    \n",
       "40879   The Young Turks           25  2018-06-13 04:00:05    \n",
       "40880          我愛小明星大跟班           24  2018-06-13 16:00:03    \n",
       "\n",
       "                                                    tags     views    likes  \\\n",
       "0      Eminem|\"Walk\"|\"On\"|\"Water\"|\"Aftermath/Shady/In...  17158579   787425   \n",
       "1      plush|\"bad unboxing\"|\"unboxing\"|\"fan mail\"|\"id...   1014651   127794   \n",
       "2      racist superman|\"rudy\"|\"mancuso\"|\"king\"|\"bach\"...   3191434   146035   \n",
       "3      ryan|\"higa\"|\"higatv\"|\"nigahiga\"|\"i dare you\"|\"...   2095828   132239   \n",
       "4      edsheeran|\"ed sheeran\"|\"acoustic\"|\"live\"|\"cove...  33523622  1634130   \n",
       "...                                                  ...       ...      ...   \n",
       "40876  annoying orange|\"funny\"|\"fruit\"|\"talking\"|\"ani...     80685     1701   \n",
       "40877  hkayet tounsia|\"elhiwar ettounsi\"|\"denya okhra...    103339      460   \n",
       "40878  Kingdom Hearts|\"KH3\"|\"Kingdom Hearts 3\"|\"Froze...    773347    25900   \n",
       "40879  180612__TB02SorryExcuse|\"News\"|\"Politics\"|\"The...    115225     2115   \n",
       "40880  吳宗憲|\"吳姍儒\"|\"小明星大跟班\"|\"Sandy\"|\"Jacky wu\"|\"憲哥\"|\"中天...    107392      300   \n",
       "\n",
       "       dislikes  comment_count  ...  \\\n",
       "0         43420         125882  ...   \n",
       "1          1688          13030  ...   \n",
       "2          5339           8181  ...   \n",
       "3          1989          17518  ...   \n",
       "4         21082          85067  ...   \n",
       "...         ...            ...  ...   \n",
       "40876        99           1312  ...   \n",
       "40877        66             51  ...   \n",
       "40878       224           3881  ...   \n",
       "40879       182           1672  ...   \n",
       "40880        62            251  ...   \n",
       "\n",
       "                                             description   pub_date  \\\n",
       "0      Eminem's new track Walk on Water ft. Beyoncé i... 2017-11-10   \n",
       "1      STill got a lot of packages. Probably will las... 2017-11-13   \n",
       "2      WATCH MY PREVIOUS VIDEO ▶ \\n\\nSUBSCRIBE ► http... 2017-11-12   \n",
       "3      I know it's been a while since we did this sho... 2017-11-12   \n",
       "4      🎧: https://ad.gt/yt-perfect\\n💰: https://atlant... 2017-11-09   \n",
       "...                                                  ...        ...   \n",
       "40876  🚨 NEW MERCH! http://amzn.to/annoyingorange 🚨➤ ... 2018-06-13   \n",
       "40877  ► Retrouvez vos programmes préférés : https://... 2018-06-13   \n",
       "40878  Find out more about Kingdom Hearts 3: https://... 2018-06-11   \n",
       "40879  Peter Navarro isn’t talking so tough now. Ana ... 2018-06-13   \n",
       "40880  藝人：李妍瑾、玉兔、班傑、LaLa、小優、少少專家：陳筱屏(律師)、Wendy(心理師)、羅... 2018-06-13   \n",
       "\n",
       "                 pub_time weekday day month  year  hour  minute  second  \n",
       "0     2020-12-05 17:00:03       4  10    11  2017    17       0       3  \n",
       "1     2020-12-05 17:00:00       0  13    11  2017    17       0       0  \n",
       "2     2020-12-05 19:05:24       6  12    11  2017    19       5      24  \n",
       "3     2020-12-05 18:01:41       6  12    11  2017    18       1      41  \n",
       "4     2020-12-05 11:04:14       3   9    11  2017    11       4      14  \n",
       "...                   ...     ...  ..   ...   ...   ...     ...     ...  \n",
       "40876 2020-12-05 18:00:07       2  13     6  2018    18       0       7  \n",
       "40877 2020-12-05 19:01:18       2  13     6  2018    19       1      18  \n",
       "40878 2020-12-05 17:30:53       0  11     6  2018    17      30      53  \n",
       "40879 2020-12-05 04:00:05       2  13     6  2018     4       0       5  \n",
       "40880 2020-12-05 16:00:03       2  13     6  2018    16       0       3  \n",
       "\n",
       "[39585 rows x 23 columns]"
      ]
     },
     "execution_count": 17,
     "metadata": {},
     "output_type": "execute_result"
    }
   ],
   "source": [
    "# Changing False = 0 and True = 1\n",
    "\n",
    "youtube['comments_disabled'] = youtube['comments_disabled'].replace('False', 0)\n",
    "youtube['comments_disabled'] = youtube['comments_disabled'].replace('True', 1)\n",
    "youtube['ratings_disabled'] = youtube['ratings_disabled'].replace('False', 0)\n",
    "youtube['ratings_disabled'] = youtube['ratings_disabled'].replace('True', 1)\n",
    "youtube['video_error_or_removed'] = youtube['video_error_or_removed'].replace('False', 0)\n",
    "youtube['video_error_or_removed'] = youtube['video_error_or_removed'].replace('True', 1)                                                                        \n",
    "youtube\n"
   ]
  },
  {
   "cell_type": "code",
   "execution_count": 18,
   "metadata": {},
   "outputs": [
    {
     "data": {
      "text/html": [
       "<div>\n",
       "<style scoped>\n",
       "    .dataframe tbody tr th:only-of-type {\n",
       "        vertical-align: middle;\n",
       "    }\n",
       "\n",
       "    .dataframe tbody tr th {\n",
       "        vertical-align: top;\n",
       "    }\n",
       "\n",
       "    .dataframe thead th {\n",
       "        text-align: right;\n",
       "    }\n",
       "</style>\n",
       "<table border=\"1\" class=\"dataframe\">\n",
       "  <thead>\n",
       "    <tr style=\"text-align: right;\">\n",
       "      <th></th>\n",
       "      <th>category_id</th>\n",
       "      <th>views</th>\n",
       "      <th>likes</th>\n",
       "      <th>dislikes</th>\n",
       "      <th>comment_count</th>\n",
       "      <th>comments_disabled</th>\n",
       "      <th>ratings_disabled</th>\n",
       "      <th>video_error_or_removed</th>\n",
       "      <th>weekday</th>\n",
       "      <th>day</th>\n",
       "      <th>month</th>\n",
       "      <th>year</th>\n",
       "      <th>hour</th>\n",
       "    </tr>\n",
       "  </thead>\n",
       "  <tbody>\n",
       "    <tr>\n",
       "      <th>0</th>\n",
       "      <td>10</td>\n",
       "      <td>17158579</td>\n",
       "      <td>787425</td>\n",
       "      <td>43420</td>\n",
       "      <td>125882</td>\n",
       "      <td>0</td>\n",
       "      <td>0</td>\n",
       "      <td>0</td>\n",
       "      <td>4</td>\n",
       "      <td>10</td>\n",
       "      <td>11</td>\n",
       "      <td>2017</td>\n",
       "      <td>17</td>\n",
       "    </tr>\n",
       "    <tr>\n",
       "      <th>1</th>\n",
       "      <td>23</td>\n",
       "      <td>1014651</td>\n",
       "      <td>127794</td>\n",
       "      <td>1688</td>\n",
       "      <td>13030</td>\n",
       "      <td>0</td>\n",
       "      <td>0</td>\n",
       "      <td>0</td>\n",
       "      <td>0</td>\n",
       "      <td>13</td>\n",
       "      <td>11</td>\n",
       "      <td>2017</td>\n",
       "      <td>17</td>\n",
       "    </tr>\n",
       "    <tr>\n",
       "      <th>2</th>\n",
       "      <td>23</td>\n",
       "      <td>3191434</td>\n",
       "      <td>146035</td>\n",
       "      <td>5339</td>\n",
       "      <td>8181</td>\n",
       "      <td>0</td>\n",
       "      <td>0</td>\n",
       "      <td>0</td>\n",
       "      <td>6</td>\n",
       "      <td>12</td>\n",
       "      <td>11</td>\n",
       "      <td>2017</td>\n",
       "      <td>19</td>\n",
       "    </tr>\n",
       "    <tr>\n",
       "      <th>3</th>\n",
       "      <td>24</td>\n",
       "      <td>2095828</td>\n",
       "      <td>132239</td>\n",
       "      <td>1989</td>\n",
       "      <td>17518</td>\n",
       "      <td>0</td>\n",
       "      <td>0</td>\n",
       "      <td>0</td>\n",
       "      <td>6</td>\n",
       "      <td>12</td>\n",
       "      <td>11</td>\n",
       "      <td>2017</td>\n",
       "      <td>18</td>\n",
       "    </tr>\n",
       "    <tr>\n",
       "      <th>4</th>\n",
       "      <td>10</td>\n",
       "      <td>33523622</td>\n",
       "      <td>1634130</td>\n",
       "      <td>21082</td>\n",
       "      <td>85067</td>\n",
       "      <td>0</td>\n",
       "      <td>0</td>\n",
       "      <td>0</td>\n",
       "      <td>3</td>\n",
       "      <td>9</td>\n",
       "      <td>11</td>\n",
       "      <td>2017</td>\n",
       "      <td>11</td>\n",
       "    </tr>\n",
       "    <tr>\n",
       "      <th>...</th>\n",
       "      <td>...</td>\n",
       "      <td>...</td>\n",
       "      <td>...</td>\n",
       "      <td>...</td>\n",
       "      <td>...</td>\n",
       "      <td>...</td>\n",
       "      <td>...</td>\n",
       "      <td>...</td>\n",
       "      <td>...</td>\n",
       "      <td>...</td>\n",
       "      <td>...</td>\n",
       "      <td>...</td>\n",
       "      <td>...</td>\n",
       "    </tr>\n",
       "    <tr>\n",
       "      <th>40876</th>\n",
       "      <td>24</td>\n",
       "      <td>80685</td>\n",
       "      <td>1701</td>\n",
       "      <td>99</td>\n",
       "      <td>1312</td>\n",
       "      <td>0</td>\n",
       "      <td>0</td>\n",
       "      <td>0</td>\n",
       "      <td>2</td>\n",
       "      <td>13</td>\n",
       "      <td>6</td>\n",
       "      <td>2018</td>\n",
       "      <td>18</td>\n",
       "    </tr>\n",
       "    <tr>\n",
       "      <th>40877</th>\n",
       "      <td>24</td>\n",
       "      <td>103339</td>\n",
       "      <td>460</td>\n",
       "      <td>66</td>\n",
       "      <td>51</td>\n",
       "      <td>0</td>\n",
       "      <td>0</td>\n",
       "      <td>0</td>\n",
       "      <td>2</td>\n",
       "      <td>13</td>\n",
       "      <td>6</td>\n",
       "      <td>2018</td>\n",
       "      <td>19</td>\n",
       "    </tr>\n",
       "    <tr>\n",
       "      <th>40878</th>\n",
       "      <td>20</td>\n",
       "      <td>773347</td>\n",
       "      <td>25900</td>\n",
       "      <td>224</td>\n",
       "      <td>3881</td>\n",
       "      <td>0</td>\n",
       "      <td>0</td>\n",
       "      <td>0</td>\n",
       "      <td>0</td>\n",
       "      <td>11</td>\n",
       "      <td>6</td>\n",
       "      <td>2018</td>\n",
       "      <td>17</td>\n",
       "    </tr>\n",
       "    <tr>\n",
       "      <th>40879</th>\n",
       "      <td>25</td>\n",
       "      <td>115225</td>\n",
       "      <td>2115</td>\n",
       "      <td>182</td>\n",
       "      <td>1672</td>\n",
       "      <td>0</td>\n",
       "      <td>0</td>\n",
       "      <td>0</td>\n",
       "      <td>2</td>\n",
       "      <td>13</td>\n",
       "      <td>6</td>\n",
       "      <td>2018</td>\n",
       "      <td>4</td>\n",
       "    </tr>\n",
       "    <tr>\n",
       "      <th>40880</th>\n",
       "      <td>24</td>\n",
       "      <td>107392</td>\n",
       "      <td>300</td>\n",
       "      <td>62</td>\n",
       "      <td>251</td>\n",
       "      <td>0</td>\n",
       "      <td>0</td>\n",
       "      <td>0</td>\n",
       "      <td>2</td>\n",
       "      <td>13</td>\n",
       "      <td>6</td>\n",
       "      <td>2018</td>\n",
       "      <td>16</td>\n",
       "    </tr>\n",
       "  </tbody>\n",
       "</table>\n",
       "<p>39585 rows × 13 columns</p>\n",
       "</div>"
      ],
      "text/plain": [
       "       category_id     views    likes  dislikes  comment_count  \\\n",
       "0               10  17158579   787425     43420         125882   \n",
       "1               23   1014651   127794      1688          13030   \n",
       "2               23   3191434   146035      5339           8181   \n",
       "3               24   2095828   132239      1989          17518   \n",
       "4               10  33523622  1634130     21082          85067   \n",
       "...            ...       ...      ...       ...            ...   \n",
       "40876           24     80685     1701        99           1312   \n",
       "40877           24    103339      460        66             51   \n",
       "40878           20    773347    25900       224           3881   \n",
       "40879           25    115225     2115       182           1672   \n",
       "40880           24    107392      300        62            251   \n",
       "\n",
       "       comments_disabled  ratings_disabled  video_error_or_removed  weekday  \\\n",
       "0                      0                 0                       0        4   \n",
       "1                      0                 0                       0        0   \n",
       "2                      0                 0                       0        6   \n",
       "3                      0                 0                       0        6   \n",
       "4                      0                 0                       0        3   \n",
       "...                  ...               ...                     ...      ...   \n",
       "40876                  0                 0                       0        2   \n",
       "40877                  0                 0                       0        2   \n",
       "40878                  0                 0                       0        0   \n",
       "40879                  0                 0                       0        2   \n",
       "40880                  0                 0                       0        2   \n",
       "\n",
       "       day  month  year  hour  \n",
       "0       10     11  2017    17  \n",
       "1       13     11  2017    17  \n",
       "2       12     11  2017    19  \n",
       "3       12     11  2017    18  \n",
       "4        9     11  2017    11  \n",
       "...    ...    ...   ...   ...  \n",
       "40876   13      6  2018    18  \n",
       "40877   13      6  2018    19  \n",
       "40878   11      6  2018    17  \n",
       "40879   13      6  2018     4  \n",
       "40880   13      6  2018    16  \n",
       "\n",
       "[39585 rows x 13 columns]"
      ]
     },
     "execution_count": 18,
     "metadata": {},
     "output_type": "execute_result"
    }
   ],
   "source": [
    "# Now let's delete the unecessary columns\n",
    "\n",
    "youtube.drop(columns=['title', 'trending_date', 'tags', 'description', 'channel_title', 'publish_time', \n",
    "                      'pub_time','pub_date', 'second', 'minute'], inplace= True)\n",
    "youtube"
   ]
  },
  {
   "cell_type": "markdown",
   "metadata": {},
   "source": [
    "# Initial Data Exploration"
   ]
  },
  {
   "cell_type": "code",
   "execution_count": 19,
   "metadata": {},
   "outputs": [
    {
     "data": {
      "image/png": "[encoded data removed]",
      "text/plain": [
       "<Figure size 720x432 with 1 Axes>"
      ]
     },
     "metadata": {
      "needs_background": "light"
     },
     "output_type": "display_data"
    }
   ],
   "source": [
    "# Category Id x likes\n",
    "plt.figure(figsize=(10,6))\n",
    "sns.set_theme(style=\"whitegrid\")\n",
    "ax = sns.barplot(x=\"category_id\", y=\"likes\", data=youtube)\n",
    "plt.title('Category_Id x Likes')\n",
    "plt.ylabel('Likes')\n",
    "plt.xlabel('Category_Id')\n",
    "plt.show()"
   ]
  },
  {
   "cell_type": "code",
   "execution_count": 20,
   "metadata": {},
   "outputs": [
    {
     "data": {
      "image/png": "[encoded data removed]",
      "text/plain": [
       "<Figure size 720x432 with 1 Axes>"
      ]
     },
     "metadata": {},
     "output_type": "display_data"
    }
   ],
   "source": [
    "# Category Id x likes\n",
    "plt.figure(figsize=(10,6))\n",
    "sns.set_theme(style=\"whitegrid\")\n",
    "ax = sns.barplot(x=\"category_id\", y=\"views\", data=youtube)\n",
    "plt.title('Category_Id x Views')\n",
    "plt.ylabel('Views')\n",
    "plt.xlabel('Category_Id')\n",
    "plt.show()"
   ]
  },
  {
   "cell_type": "code",
   "execution_count": 21,
   "metadata": {},
   "outputs": [
    {
     "data": {
      "image/png": "[encoded data removed]",
      "text/plain": [
       "<Figure size 720x432 with 1 Axes>"
      ]
     },
     "metadata": {},
     "output_type": "display_data"
    }
   ],
   "source": [
    "# Category Id x Dislikes\n",
    "# So here there's an important thing Category_Id = 29 has the most likes but in the other hand the the most dislikes\n",
    "\n",
    "plt.figure(figsize=(10,6))\n",
    "sns.set_theme(style=\"whitegrid\")\n",
    "ax = sns.barplot(x=\"category_id\", y=\"dislikes\", data=youtube)\n",
    "plt.title('Category_Id x Dislikes')\n",
    "plt.ylabel('Dislikes')\n",
    "plt.xlabel('Category_Id')\n",
    "plt.show()"
   ]
  },
  {
   "cell_type": "markdown",
   "metadata": {},
   "source": [
    "We can maybe say that the mostly of categories that get more likes there's a high probability the get dislikes as well"
   ]
  },
  {
   "cell_type": "code",
   "execution_count": 22,
   "metadata": {},
   "outputs": [
    {
     "data": {
      "image/png": "[encoded data removed]",
      "text/plain": [
       "<Figure size 720x432 with 1 Axes>"
      ]
     },
     "metadata": {},
     "output_type": "display_data"
    }
   ],
   "source": [
    "# Likes x Days of the week\n",
    "# So here there's an important thing Category_Id = 29 has the most likes but in the other hand the the most dislikes\n",
    "\n",
    "plt.figure(figsize=(10,6))\n",
    "sns.set_theme(style=\"whitegrid\")\n",
    "ax = sns.barplot(x=\"weekday\", y=\"likes\", data=youtube)\n",
    "plt.title('Days of week x Likes')\n",
    "plt.ylabel('Likes')\n",
    "plt.xlabel('Days of week')\n",
    "plt.show()"
   ]
  },
  {
   "cell_type": "code",
   "execution_count": 23,
   "metadata": {},
   "outputs": [
    {
     "data": {
      "image/png": "[encoded data removed]",
      "text/plain": [
       "<Figure size 720x432 with 1 Axes>"
      ]
     },
     "metadata": {},
     "output_type": "display_data"
    }
   ],
   "source": [
    "# Views x Days of the week\n",
    "# So here there's an important thing Category_Id = 29 has the most likes but in the other hand the the most dislikes\n",
    "\n",
    "plt.figure(figsize=(10,6))\n",
    "sns.set_theme(style=\"whitegrid\")\n",
    "ax = sns.barplot(x=\"weekday\", y=\"views\", data=youtube)\n",
    "plt.title('Days of week x Views')\n",
    "plt.ylabel('Views')\n",
    "plt.xlabel('Days of week')\n",
    "plt.show()"
   ]
  },
  {
   "cell_type": "markdown",
   "metadata": {},
   "source": [
    "Here we can say that the best day of the week to get more likes seems to be Friday"
   ]
  },
  {
   "cell_type": "code",
   "execution_count": null,
   "metadata": {},
   "outputs": [],
   "source": []
  },
  {
   "cell_type": "code",
   "execution_count": 24,
   "metadata": {},
   "outputs": [
    {
     "data": {
      "text/plain": [
       "0        0.045891\n",
       "1        0.125949\n",
       "2        0.045758\n",
       "3        0.063096\n",
       "4        0.048746\n",
       "           ...   \n",
       "40876    0.021082\n",
       "40877    0.004451\n",
       "40878    0.033491\n",
       "40879    0.018355\n",
       "40880    0.002794\n",
       "Name: ratio_likes, Length: 39585, dtype: float64"
      ]
     },
     "execution_count": 24,
     "metadata": {},
     "output_type": "execute_result"
    }
   ],
   "source": [
    "# Ratio likes per views\n",
    "\n",
    "youtube['ratio_likes'] = youtube['likes']/ youtube['views']\n",
    "youtube['ratio_likes']\n"
   ]
  },
  {
   "cell_type": "code",
   "execution_count": 25,
   "metadata": {},
   "outputs": [
    {
     "data": {
      "image/png": "[encoded data removed]",
      "text/plain": [
       "<Figure size 720x432 with 1 Axes>"
      ]
     },
     "metadata": {},
     "output_type": "display_data"
    }
   ],
   "source": [
    "# Category Id x Ratio Likes\n",
    "# So here there's an important thing Category_Id = 29 has the most likes but in the other hand the the most dislikes\n",
    "\n",
    "plt.figure(figsize=(10,6))\n",
    "sns.set_theme(style=\"whitegrid\")\n",
    "ax = sns.barplot(x=\"category_id\", y=\"ratio_likes\", data=youtube)\n",
    "plt.title('Category Id x Ratio Likes')\n",
    "plt.ylabel('Likes')\n",
    "plt.xlabel('Category Id')\n",
    "plt.show()"
   ]
  },
  {
   "cell_type": "code",
   "execution_count": 26,
   "metadata": {},
   "outputs": [
    {
     "data": {
      "text/plain": [
       "0        0.002531\n",
       "1        0.001664\n",
       "2        0.001673\n",
       "3        0.000949\n",
       "4        0.000629\n",
       "           ...   \n",
       "40876    0.001227\n",
       "40877    0.000639\n",
       "40878    0.000290\n",
       "40879    0.001580\n",
       "40880    0.000577\n",
       "Name: ratio_dislikes, Length: 39585, dtype: float64"
      ]
     },
     "execution_count": 26,
     "metadata": {},
     "output_type": "execute_result"
    }
   ],
   "source": [
    "# Ratio dislikes per views\n",
    "\n",
    "youtube['ratio_dislikes'] = youtube['dislikes']/ youtube['views']\n",
    "youtube['ratio_dislikes']\n"
   ]
  },
  {
   "cell_type": "code",
   "execution_count": 27,
   "metadata": {},
   "outputs": [
    {
     "data": {
      "image/png": "[encoded data removed]",
      "text/plain": [
       "<Figure size 720x432 with 1 Axes>"
      ]
     },
     "metadata": {},
     "output_type": "display_data"
    }
   ],
   "source": [
    "# Category Id x Ratio Dislikes\n",
    "# So here there's an important thing Category_Id = 29 has the most likes but in the other hand the the most dislikes\n",
    "\n",
    "plt.figure(figsize=(10,6))\n",
    "sns.set_theme(style=\"whitegrid\")\n",
    "ax = sns.barplot(x=\"category_id\", y=\"ratio_dislikes\", data=youtube)\n",
    "plt.title('Category Id x Ratio Dislikes')\n",
    "plt.ylabel('Dislikes')\n",
    "plt.xlabel('Category Id')\n",
    "plt.show()"
   ]
  },
  {
   "cell_type": "code",
   "execution_count": null,
   "metadata": {},
   "outputs": [],
   "source": []
  },
  {
   "cell_type": "code",
   "execution_count": 28,
   "metadata": {},
   "outputs": [
    {
     "data": {
      "image/png": "[encoded data removed]",
      "text/plain": [
       "<Figure size 720x432 with 1 Axes>"
      ]
     },
     "metadata": {},
     "output_type": "display_data"
    }
   ],
   "source": [
    "# Likes x Hour\n",
    "# So here there's an important thing Category_Id = 29 has the most likes but in the other hand the the most dislikes\n",
    "\n",
    "plt.figure(figsize=(10,6))\n",
    "sns.set_theme(style=\"whitegrid\")\n",
    "ax = sns.barplot(x=\"hour\", y=\"likes\", data=youtube)\n",
    "plt.title('Hour x Likes')\n",
    "plt.ylabel('Likes')\n",
    "plt.xlabel('Hour')\n",
    "plt.show()"
   ]
  },
  {
   "cell_type": "code",
   "execution_count": 29,
   "metadata": {},
   "outputs": [
    {
     "data": {
      "image/png": "[encoded data removed]",
      "text/plain": [
       "<Figure size 720x432 with 1 Axes>"
      ]
     },
     "metadata": {},
     "output_type": "display_data"
    }
   ],
   "source": [
    "# Hour x View\n",
    "# So here there's an important thing Category_Id = 29 has the most likes but in the other hand the the most dislikes\n",
    "\n",
    "plt.figure(figsize=(10,6))\n",
    "sns.set_theme(style=\"whitegrid\")\n",
    "ax = sns.barplot(x=\"hour\", y=\"likes\", data=youtube)\n",
    "plt.title('Hour x Likes')\n",
    "plt.ylabel('Likes')\n",
    "plt.xlabel('Hour')\n",
    "plt.show()"
   ]
  },
  {
   "cell_type": "code",
   "execution_count": null,
   "metadata": {},
   "outputs": [],
   "source": []
  },
  {
   "cell_type": "code",
   "execution_count": 30,
   "metadata": {},
   "outputs": [
    {
     "data": {
      "image/png": "[encoded data removed]",
      "text/plain": [
       "<Figure size 720x432 with 1 Axes>"
      ]
     },
     "metadata": {},
     "output_type": "display_data"
    }
   ],
   "source": [
    "# Category Likes x Month\n",
    "# So here there's an important thing Category_Id = 29 has the most likes but in the other hand the the most dislikes\n",
    "\n",
    "plt.figure(figsize=(10,6))\n",
    "sns.set_theme(style=\"whitegrid\")\n",
    "ax = sns.barplot(x=\"month\", y=\"likes\", data=youtube)\n",
    "plt.title('Month x Likes')\n",
    "plt.ylabel('Likes')\n",
    "plt.xlabel('Month')\n",
    "plt.show()"
   ]
  },
  {
   "cell_type": "code",
   "execution_count": 31,
   "metadata": {
    "scrolled": true
   },
   "outputs": [
    {
     "data": {
      "text/plain": [
       "<matplotlib.axes._subplots.AxesSubplot at 0x7f895650ff50>"
      ]
     },
     "execution_count": 31,
     "metadata": {},
     "output_type": "execute_result"
    },
    {
     "data": {
      "image/png": "[encoded data removed]",
      "text/plain": [
       "<Figure size 432x288 with 1 Axes>"
      ]
     },
     "metadata": {},
     "output_type": "display_data"
    }
   ],
   "source": [
    "# Views x Likes\n",
    "\n",
    "sns.scatterplot(data=youtube, x=\"views\", y=\"likes\")"
   ]
  },
  {
   "cell_type": "code",
   "execution_count": 32,
   "metadata": {},
   "outputs": [
    {
     "data": {
      "text/plain": [
       "<matplotlib.axes._subplots.AxesSubplot at 0x7f8955f68450>"
      ]
     },
     "execution_count": 32,
     "metadata": {},
     "output_type": "execute_result"
    },
    {
     "data": {
      "image/png": "[encoded data removed]",
      "text/plain": [
       "<Figure size 432x288 with 1 Axes>"
      ]
     },
     "metadata": {},
     "output_type": "display_data"
    }
   ],
   "source": [
    "# Views x Dislikes\n",
    "\n",
    "sns.scatterplot(data=youtube, x=\"views\", y=\"dislikes\")"
   ]
  },
  {
   "cell_type": "code",
   "execution_count": 33,
   "metadata": {},
   "outputs": [
    {
     "data": {
      "text/plain": [
       "<matplotlib.axes._subplots.AxesSubplot at 0x7f8955ec5510>"
      ]
     },
     "execution_count": 33,
     "metadata": {},
     "output_type": "execute_result"
    },
    {
     "data": {
      "image/png": "[encoded data removed]",
      "text/plain": [
       "<Figure size 432x288 with 1 Axes>"
      ]
     },
     "metadata": {},
     "output_type": "display_data"
    }
   ],
   "source": [
    "# Views x Comment cout\n",
    "\n",
    "sns.scatterplot(data=youtube, x=\"views\", y=\"comment_count\")"
   ]
  },
  {
   "cell_type": "code",
   "execution_count": null,
   "metadata": {},
   "outputs": [],
   "source": []
  },
  {
   "cell_type": "code",
   "execution_count": 34,
   "metadata": {},
   "outputs": [
    {
     "data": {
      "text/plain": [
       "<matplotlib.axes._subplots.AxesSubplot at 0x7f8955c9afd0>"
      ]
     },
     "execution_count": 34,
     "metadata": {},
     "output_type": "execute_result"
    },
    {
     "data": {
      "image/png": "[encoded data removed]",
      "text/plain": [
       "<Figure size 432x288 with 1 Axes>"
      ]
     },
     "metadata": {},
     "output_type": "display_data"
    }
   ],
   "source": [
    "# Comment Count x Likes\n",
    "\n",
    "sns.scatterplot(data=youtube, x=\"likes\", y=\"comment_count\")"
   ]
  },
  {
   "cell_type": "code",
   "execution_count": 35,
   "metadata": {
    "scrolled": true
   },
   "outputs": [
    {
     "data": {
      "text/plain": [
       "<matplotlib.axes._subplots.AxesSubplot at 0x7f89544638d0>"
      ]
     },
     "execution_count": 35,
     "metadata": {},
     "output_type": "execute_result"
    },
    {
     "data": {
      "image/png": "[encoded data removed]",
      "text/plain": [
       "<Figure size 432x288 with 1 Axes>"
      ]
     },
     "metadata": {},
     "output_type": "display_data"
    }
   ],
   "source": [
    "# Comment Count x Disikes\n",
    "\n",
    "sns.scatterplot(data=youtube, x=\"dislikes\", y=\"comment_count\")"
   ]
  },
  {
   "cell_type": "code",
   "execution_count": 36,
   "metadata": {},
   "outputs": [
    {
     "data": {
      "text/plain": [
       "Text(0.5, 0.98, 'Distribution of likes')"
      ]
     },
     "execution_count": 36,
     "metadata": {},
     "output_type": "execute_result"
    },
    {
     "data": {
      "text/plain": [
       "<Figure size 432x288 with 0 Axes>"
      ]
     },
     "metadata": {},
     "output_type": "display_data"
    },
    {
     "data": {
      "image/png": "[encoded data removed]",
      "text/plain": [
       "<Figure size 360x360 with 1 Axes>"
      ]
     },
     "metadata": {},
     "output_type": "display_data"
    }
   ],
   "source": [
    "# Distribution of likes\n",
    "\n",
    "fig=plt.figure(figsize=(6,4))\n",
    "sns.set_style(\"whitegrid\") \n",
    "l =  sns.displot((youtube['likes']),bins=500)\n",
    "l.set(xlim=(0, 90000))\n",
    "#Plot Label\n",
    "fig.suptitle('Distribution of likes', fontsize = 20)"
   ]
  },
  {
   "cell_type": "code",
   "execution_count": 37,
   "metadata": {},
   "outputs": [
    {
     "data": {
      "text/plain": [
       "Text(0.5, 0.98, 'Distribution of Dislikes')"
      ]
     },
     "execution_count": 37,
     "metadata": {},
     "output_type": "execute_result"
    },
    {
     "data": {
      "text/plain": [
       "<Figure size 432x288 with 0 Axes>"
      ]
     },
     "metadata": {},
     "output_type": "display_data"
    },
    {
     "data": {
      "image/png": "[encoded data removed]",
      "text/plain": [
       "<Figure size 360x360 with 1 Axes>"
      ]
     },
     "metadata": {},
     "output_type": "display_data"
    }
   ],
   "source": [
    "# Distribution of Dislikes\n",
    "\n",
    "fig=plt.figure(figsize=(6,4))\n",
    "sns.set_style(\"whitegrid\") \n",
    "l =  sns.displot((youtube['dislikes']),bins=700)\n",
    "l.set(xlim=(0, 9000))\n",
    "#Plot Label\n",
    "fig.suptitle('Distribution of Dislikes', fontsize = 20)"
   ]
  },
  {
   "cell_type": "code",
   "execution_count": 38,
   "metadata": {},
   "outputs": [
    {
     "data": {
      "text/plain": [
       "Text(0.5, 0.98, 'Distribution of Views')"
      ]
     },
     "execution_count": 38,
     "metadata": {},
     "output_type": "execute_result"
    },
    {
     "data": {
      "text/plain": [
       "<Figure size 432x288 with 0 Axes>"
      ]
     },
     "metadata": {},
     "output_type": "display_data"
    },
    {
     "data": {
      "image/png": "[encoded data removed]",
      "text/plain": [
       "<Figure size 360x360 with 1 Axes>"
      ]
     },
     "metadata": {},
     "output_type": "display_data"
    }
   ],
   "source": [
    "# Distribution of Views\n",
    "\n",
    "fig=plt.figure(figsize=(6,4))\n",
    "sns.set_style(\"whitegrid\") \n",
    "l =  sns.displot((youtube['views']),bins=700)\n",
    "l.set(xlim=(0, 9000000))\n",
    "#Plot Label\n",
    "fig.suptitle('Distribution of Views', fontsize = 20)"
   ]
  },
  {
   "cell_type": "code",
   "execution_count": 39,
   "metadata": {
    "scrolled": true
   },
   "outputs": [
    {
     "data": {
      "text/html": [
       "<div>\n",
       "<style scoped>\n",
       "    .dataframe tbody tr th:only-of-type {\n",
       "        vertical-align: middle;\n",
       "    }\n",
       "\n",
       "    .dataframe tbody tr th {\n",
       "        vertical-align: top;\n",
       "    }\n",
       "\n",
       "    .dataframe thead th {\n",
       "        text-align: right;\n",
       "    }\n",
       "</style>\n",
       "<table border=\"1\" class=\"dataframe\">\n",
       "  <thead>\n",
       "    <tr style=\"text-align: right;\">\n",
       "      <th></th>\n",
       "      <th>category_id</th>\n",
       "      <th>views</th>\n",
       "      <th>likes</th>\n",
       "      <th>dislikes</th>\n",
       "      <th>comment_count</th>\n",
       "      <th>comments_disabled</th>\n",
       "      <th>ratings_disabled</th>\n",
       "      <th>video_error_or_removed</th>\n",
       "      <th>weekday</th>\n",
       "      <th>day</th>\n",
       "      <th>month</th>\n",
       "      <th>year</th>\n",
       "      <th>hour</th>\n",
       "      <th>ratio_likes</th>\n",
       "      <th>ratio_dislikes</th>\n",
       "    </tr>\n",
       "  </thead>\n",
       "  <tbody>\n",
       "    <tr>\n",
       "      <th>count</th>\n",
       "      <td>39585.000000</td>\n",
       "      <td>3.958500e+04</td>\n",
       "      <td>3.958500e+04</td>\n",
       "      <td>3.958500e+04</td>\n",
       "      <td>3.958500e+04</td>\n",
       "      <td>39585.000000</td>\n",
       "      <td>39585.000000</td>\n",
       "      <td>39585.000000</td>\n",
       "      <td>39585.000000</td>\n",
       "      <td>39585.000000</td>\n",
       "      <td>39585.000000</td>\n",
       "      <td>39585.000000</td>\n",
       "      <td>39585.000000</td>\n",
       "      <td>39585.000000</td>\n",
       "      <td>39585.000000</td>\n",
       "    </tr>\n",
       "    <tr>\n",
       "      <th>mean</th>\n",
       "      <td>20.778123</td>\n",
       "      <td>1.169234e+06</td>\n",
       "      <td>4.059694e+04</td>\n",
       "      <td>2.058693e+03</td>\n",
       "      <td>5.159716e+03</td>\n",
       "      <td>0.014197</td>\n",
       "      <td>0.014197</td>\n",
       "      <td>0.014197</td>\n",
       "      <td>2.970393</td>\n",
       "      <td>15.761450</td>\n",
       "      <td>5.282506</td>\n",
       "      <td>2017.752255</td>\n",
       "      <td>13.823671</td>\n",
       "      <td>0.034031</td>\n",
       "      <td>0.001333</td>\n",
       "    </tr>\n",
       "    <tr>\n",
       "      <th>std</th>\n",
       "      <td>6.808714</td>\n",
       "      <td>3.437842e+06</td>\n",
       "      <td>1.345967e+05</td>\n",
       "      <td>1.931258e+04</td>\n",
       "      <td>2.189959e+04</td>\n",
       "      <td>0.118305</td>\n",
       "      <td>0.118305</td>\n",
       "      <td>0.118305</td>\n",
       "      <td>1.967548</td>\n",
       "      <td>8.803802</td>\n",
       "      <td>3.854885</td>\n",
       "      <td>0.460477</td>\n",
       "      <td>6.700338</td>\n",
       "      <td>0.030869</td>\n",
       "      <td>0.003252</td>\n",
       "    </tr>\n",
       "    <tr>\n",
       "      <th>min</th>\n",
       "      <td>1.000000</td>\n",
       "      <td>7.330000e+02</td>\n",
       "      <td>0.000000e+00</td>\n",
       "      <td>0.000000e+00</td>\n",
       "      <td>0.000000e+00</td>\n",
       "      <td>0.000000</td>\n",
       "      <td>0.000000</td>\n",
       "      <td>0.000000</td>\n",
       "      <td>0.000000</td>\n",
       "      <td>1.000000</td>\n",
       "      <td>1.000000</td>\n",
       "      <td>2008.000000</td>\n",
       "      <td>0.000000</td>\n",
       "      <td>0.000000</td>\n",
       "      <td>0.000000</td>\n",
       "    </tr>\n",
       "    <tr>\n",
       "      <th>25%</th>\n",
       "      <td>20.000000</td>\n",
       "      <td>1.497150e+05</td>\n",
       "      <td>2.395000e+03</td>\n",
       "      <td>1.040000e+02</td>\n",
       "      <td>4.420000e+02</td>\n",
       "      <td>0.000000</td>\n",
       "      <td>0.000000</td>\n",
       "      <td>0.000000</td>\n",
       "      <td>1.000000</td>\n",
       "      <td>8.000000</td>\n",
       "      <td>2.000000</td>\n",
       "      <td>2018.000000</td>\n",
       "      <td>10.000000</td>\n",
       "      <td>0.009801</td>\n",
       "      <td>0.000504</td>\n",
       "    </tr>\n",
       "    <tr>\n",
       "      <th>50%</th>\n",
       "      <td>24.000000</td>\n",
       "      <td>3.831200e+05</td>\n",
       "      <td>9.244000e+03</td>\n",
       "      <td>3.140000e+02</td>\n",
       "      <td>1.357000e+03</td>\n",
       "      <td>0.000000</td>\n",
       "      <td>0.000000</td>\n",
       "      <td>0.000000</td>\n",
       "      <td>3.000000</td>\n",
       "      <td>16.000000</td>\n",
       "      <td>4.000000</td>\n",
       "      <td>2018.000000</td>\n",
       "      <td>16.000000</td>\n",
       "      <td>0.026041</td>\n",
       "      <td>0.000809</td>\n",
       "    </tr>\n",
       "    <tr>\n",
       "      <th>75%</th>\n",
       "      <td>24.000000</td>\n",
       "      <td>9.831390e+05</td>\n",
       "      <td>2.967000e+04</td>\n",
       "      <td>9.760000e+02</td>\n",
       "      <td>3.821000e+03</td>\n",
       "      <td>0.000000</td>\n",
       "      <td>0.000000</td>\n",
       "      <td>0.000000</td>\n",
       "      <td>5.000000</td>\n",
       "      <td>23.000000</td>\n",
       "      <td>6.000000</td>\n",
       "      <td>2018.000000</td>\n",
       "      <td>19.000000</td>\n",
       "      <td>0.048911</td>\n",
       "      <td>0.001362</td>\n",
       "    </tr>\n",
       "    <tr>\n",
       "      <th>max</th>\n",
       "      <td>43.000000</td>\n",
       "      <td>1.378431e+08</td>\n",
       "      <td>5.053338e+06</td>\n",
       "      <td>1.602383e+06</td>\n",
       "      <td>1.114800e+06</td>\n",
       "      <td>1.000000</td>\n",
       "      <td>1.000000</td>\n",
       "      <td>1.000000</td>\n",
       "      <td>6.000000</td>\n",
       "      <td>31.000000</td>\n",
       "      <td>12.000000</td>\n",
       "      <td>2018.000000</td>\n",
       "      <td>23.000000</td>\n",
       "      <td>0.450509</td>\n",
       "      <td>0.215580</td>\n",
       "    </tr>\n",
       "  </tbody>\n",
       "</table>\n",
       "</div>"
      ],
      "text/plain": [
       "        category_id         views         likes      dislikes  comment_count  \\\n",
       "count  39585.000000  3.958500e+04  3.958500e+04  3.958500e+04   3.958500e+04   \n",
       "mean      20.778123  1.169234e+06  4.059694e+04  2.058693e+03   5.159716e+03   \n",
       "std        6.808714  3.437842e+06  1.345967e+05  1.931258e+04   2.189959e+04   \n",
       "min        1.000000  7.330000e+02  0.000000e+00  0.000000e+00   0.000000e+00   \n",
       "25%       20.000000  1.497150e+05  2.395000e+03  1.040000e+02   4.420000e+02   \n",
       "50%       24.000000  3.831200e+05  9.244000e+03  3.140000e+02   1.357000e+03   \n",
       "75%       24.000000  9.831390e+05  2.967000e+04  9.760000e+02   3.821000e+03   \n",
       "max       43.000000  1.378431e+08  5.053338e+06  1.602383e+06   1.114800e+06   \n",
       "\n",
       "       comments_disabled  ratings_disabled  video_error_or_removed  \\\n",
       "count       39585.000000      39585.000000            39585.000000   \n",
       "mean            0.014197          0.014197                0.014197   \n",
       "std             0.118305          0.118305                0.118305   \n",
       "min             0.000000          0.000000                0.000000   \n",
       "25%             0.000000          0.000000                0.000000   \n",
       "50%             0.000000          0.000000                0.000000   \n",
       "75%             0.000000          0.000000                0.000000   \n",
       "max             1.000000          1.000000                1.000000   \n",
       "\n",
       "            weekday           day         month          year          hour  \\\n",
       "count  39585.000000  39585.000000  39585.000000  39585.000000  39585.000000   \n",
       "mean       2.970393     15.761450      5.282506   2017.752255     13.823671   \n",
       "std        1.967548      8.803802      3.854885      0.460477      6.700338   \n",
       "min        0.000000      1.000000      1.000000   2008.000000      0.000000   \n",
       "25%        1.000000      8.000000      2.000000   2018.000000     10.000000   \n",
       "50%        3.000000     16.000000      4.000000   2018.000000     16.000000   \n",
       "75%        5.000000     23.000000      6.000000   2018.000000     19.000000   \n",
       "max        6.000000     31.000000     12.000000   2018.000000     23.000000   \n",
       "\n",
       "        ratio_likes  ratio_dislikes  \n",
       "count  39585.000000    39585.000000  \n",
       "mean       0.034031        0.001333  \n",
       "std        0.030869        0.003252  \n",
       "min        0.000000        0.000000  \n",
       "25%        0.009801        0.000504  \n",
       "50%        0.026041        0.000809  \n",
       "75%        0.048911        0.001362  \n",
       "max        0.450509        0.215580  "
      ]
     },
     "execution_count": 39,
     "metadata": {},
     "output_type": "execute_result"
    }
   ],
   "source": [
    "youtube.describe()"
   ]
  },
  {
   "cell_type": "code",
   "execution_count": 40,
   "metadata": {},
   "outputs": [
    {
     "data": {
      "image/png": "[encoded data removed]",
      "text/plain": [
       "<Figure size 1440x720 with 2 Axes>"
      ]
     },
     "metadata": {},
     "output_type": "display_data"
    }
   ],
   "source": [
    "# Correlation heatmap. This is a nicer representation of the above correlation table\n",
    "plt.figure(figsize=(20,10))\n",
    "corrmat=youtube.corr() \n",
    "top_corr_features=corrmat.index \n",
    "\n",
    "#plot heat map \n",
    "g=sns.heatmap(youtube[top_corr_features].corr(),annot=True,cmap=\"RdYlGn\")"
   ]
  },
  {
   "cell_type": "markdown",
   "metadata": {},
   "source": [
    "# Maybe don't need these columns there's multicollinearity \n",
    "\n",
    "youtube.drop(columns=['comments_disabled', 'ratings_disabled', 'video_error_or_removed', \n",
    "                      'month', 'year', 'ratio_dislikes', 'ratio_likes'])"
   ]
  },
  {
   "cell_type": "markdown",
   "metadata": {},
   "source": [
    "# Modeling and Evaluating\n",
    "\n",
    "- Predicting likes"
   ]
  },
  {
   "cell_type": "code",
   "execution_count": 41,
   "metadata": {},
   "outputs": [],
   "source": [
    "# Importing models \n",
    "\n",
    "from sklearn.linear_model import LinearRegression\n",
    "from sklearn.linear_model import Ridge\n",
    "from sklearn.linear_model import Lasso\n",
    "\n",
    "\n",
    "from sklearn.model_selection import train_test_split\n",
    "\n",
    "from sklearn import metrics\n",
    "from sklearn.metrics import mean_absolute_error\n",
    "from sklearn.metrics import r2_score\n",
    "from sklearn.metrics import mean_squared_error\n",
    "\n",
    "from sklearn.model_selection import cross_val_score\n"
   ]
  },
  {
   "cell_type": "code",
   "execution_count": 42,
   "metadata": {},
   "outputs": [],
   "source": [
    "# Defining X and y\n",
    "\n",
    "y=youtube['likes']\n",
    "X=youtube.drop(['likes'],axis=1,inplace=False)"
   ]
  },
  {
   "cell_type": "markdown",
   "metadata": {},
   "source": [
    "# 30% slipt"
   ]
  },
  {
   "cell_type": "code",
   "execution_count": 43,
   "metadata": {},
   "outputs": [],
   "source": [
    "X_train,X_test,y_train,y_test=train_test_split(X,y, test_size=0.3,random_state = 4242)"
   ]
  },
  {
   "cell_type": "code",
   "execution_count": 44,
   "metadata": {},
   "outputs": [
    {
     "name": "stdout",
     "output_type": "stream",
     "text": [
      "(27709, 14) (11876, 14) (27709,) (11876,)\n"
     ]
    }
   ],
   "source": [
    "print(X_train.shape,X_test.shape,y_train.shape,y_test.shape)"
   ]
  },
  {
   "cell_type": "markdown",
   "metadata": {},
   "source": [
    "### Linear Regression"
   ]
  },
  {
   "cell_type": "code",
   "execution_count": 45,
   "metadata": {},
   "outputs": [
    {
     "data": {
      "text/plain": [
       "0.8594119388138729"
      ]
     },
     "execution_count": 45,
     "metadata": {},
     "output_type": "execute_result"
    }
   ],
   "source": [
    "# Calling the model\n",
    "lm = LinearRegression()\n",
    "\n",
    "# Fitting \n",
    "lm.fit(X_train, y_train)\n",
    "\n",
    "# Score\n",
    "lm.score(X_test,y_test)"
   ]
  },
  {
   "cell_type": "code",
   "execution_count": 46,
   "metadata": {},
   "outputs": [
    {
     "data": {
      "text/plain": [
       "<matplotlib.collections.PathCollection at 0x7f8955525750>"
      ]
     },
     "execution_count": 46,
     "metadata": {},
     "output_type": "execute_result"
    },
    {
     "data": {
      "image/png": "[encoded data removed]",
      "text/plain": [
       "<Figure size 432x288 with 1 Axes>"
      ]
     },
     "metadata": {},
     "output_type": "display_data"
    }
   ],
   "source": [
    "\n",
    "# Predictions\n",
    "predictions=lm.predict(X_test)\n",
    "\n",
    "\n",
    "fig = plt.figure()\n",
    "# Plot-label\n",
    "fig.suptitle('y_test vs predictions')\n",
    "\n",
    "#X-label\n",
    "plt.xlabel('y_test')\n",
    "\n",
    "# Y-label\n",
    "plt.ylabel('predictions')\n",
    "plt.scatter(y_test,predictions)"
   ]
  },
  {
   "cell_type": "code",
   "execution_count": 47,
   "metadata": {},
   "outputs": [
    {
     "name": "stdout",
     "output_type": "stream",
     "text": [
      "lr.coef_: [-5.96513908e+02  2.13515888e-02 -1.65535651e+00  3.66734829e+00\n",
      "  2.37950197e+02  2.37950197e+02  2.37950197e+02  2.40849577e+02\n",
      "  3.85975608e+00  1.30344355e+02 -1.41145018e+01 -1.43414733e+02\n",
      "  5.51212407e+05  5.76153602e+05]\n",
      "lr.intercept_: 22113.883738713106\n"
     ]
    }
   ],
   "source": [
    "# Printing coeffs and intercept\n",
    "\n",
    "print(\"lr.coef_: {}\".format(lm.coef_))\n",
    "print(\"lr.intercept_: {}\".format(lm.intercept_))"
   ]
  },
  {
   "cell_type": "code",
   "execution_count": 48,
   "metadata": {},
   "outputs": [
    {
     "name": "stdout",
     "output_type": "stream",
     "text": [
      "Training set score: 0.87\n",
      "Test set score: 0.86\n"
     ]
    }
   ],
   "source": [
    "# R2 scores - train and test\n",
    "\n",
    "print(\"Training set score: {:.2f}\".format(lm.score(X_train, y_train)))\n",
    "print(\"Test set score: {:.2f}\".format(lm.score(X_test, y_test)))"
   ]
  },
  {
   "cell_type": "markdown",
   "metadata": {},
   "source": [
    "### Ridge Regression"
   ]
  },
  {
   "cell_type": "code",
   "execution_count": 49,
   "metadata": {},
   "outputs": [
    {
     "name": "stdout",
     "output_type": "stream",
     "text": [
      "Training set score: 0.87\n",
      "Test set score: 0.86\n"
     ]
    }
   ],
   "source": [
    "# alpha default value = 1\n",
    "\n",
    "\n",
    "ridge = Ridge().fit(X_train, y_train)\n",
    "print(\"Training set score: {:.2f}\".format(ridge.score(X_train, y_train)))\n",
    "print(\"Test set score: {:.2f}\".format(ridge.score(X_test, y_test)))"
   ]
  },
  {
   "cell_type": "code",
   "execution_count": 50,
   "metadata": {},
   "outputs": [
    {
     "name": "stdout",
     "output_type": "stream",
     "text": [
      "Training set score: 0.87\n",
      "Test set score: 0.86\n"
     ]
    }
   ],
   "source": [
    "# alpha = 0.001\n",
    "ridge0001 = Ridge(alpha=0.001).fit(X_train, y_train)\n",
    "print(\"Training set score: {:.2f}\".format(ridge0001.score(X_train, y_train)))\n",
    "print(\"Test set score: {:.2f}\".format(ridge0001.score(X_test, y_test)))"
   ]
  },
  {
   "cell_type": "code",
   "execution_count": 51,
   "metadata": {},
   "outputs": [
    {
     "name": "stdout",
     "output_type": "stream",
     "text": [
      "Training set score: 0.87\n",
      "Test set score: 0.86\n"
     ]
    }
   ],
   "source": [
    "# alpha = 0.0001\n",
    "ridge00001 = Ridge(alpha=0.0001).fit(X_train, y_train)\n",
    "print(\"Training set score: {:.2f}\".format(ridge00001.score(X_train, y_train)))\n",
    "print(\"Test set score: {:.2f}\".format(ridge00001.score(X_test, y_test)))"
   ]
  },
  {
   "cell_type": "code",
   "execution_count": 52,
   "metadata": {},
   "outputs": [
    {
     "data": {
      "text/plain": [
       "<matplotlib.legend.Legend at 0x7f8956c09c50>"
      ]
     },
     "execution_count": 52,
     "metadata": {},
     "output_type": "execute_result"
    },
    {
     "data": {
      "image/png": "[encoded data removed]",
      "text/plain": [
       "<Figure size 432x288 with 1 Axes>"
      ]
     },
     "metadata": {},
     "output_type": "display_data"
    }
   ],
   "source": [
    "plt.plot(ridge.coef_, 's', label=\"Ridge alpha=1\")\n",
    "plt.plot(ridge0001.coef_, '^', label=\"Ridge alpha=0.001\")\n",
    "plt.plot(ridge00001.coef_, 'v', label=\"Ridge alpha=0.0001\")\n",
    "plt.plot(lm.coef_, 'o', label=\"LinearRegression\")\n",
    "plt.xlabel(\"Coefficient index\")\n",
    "plt.ylabel(\"Coefficient magnitude\")\n",
    "plt.hlines(0, 0, len(lm.coef_))\n",
    "plt.ylim(-25, 25)\n",
    "plt.legend()"
   ]
  },
  {
   "cell_type": "markdown",
   "metadata": {},
   "source": [
    "### Lasso Regression"
   ]
  },
  {
   "cell_type": "code",
   "execution_count": 53,
   "metadata": {},
   "outputs": [
    {
     "name": "stdout",
     "output_type": "stream",
     "text": [
      "Training set score: 0.87\n",
      "Test set score: 0.86\n"
     ]
    }
   ],
   "source": [
    "# Lasso alpha = 1\n",
    "lasso = Lasso().fit(X_train, y_train)\n",
    "print(\"Training set score: {:.2f}\".format(lasso.score(X_train, y_train)))\n",
    "print(\"Test set score: {:.2f}\".format(lasso.score(X_test, y_test)))\n"
   ]
  },
  {
   "cell_type": "code",
   "execution_count": 54,
   "metadata": {},
   "outputs": [
    {
     "name": "stdout",
     "output_type": "stream",
     "text": [
      "Training set score: 0.87\n",
      "Test set score: 0.86\n"
     ]
    }
   ],
   "source": [
    "# we increase the default setting of \"max_iter\",\n",
    "# otherwise the model would warn us that we should increase max_iter.\n",
    "# alpha = 0.1\n",
    "\n",
    "lasso01 = Lasso(alpha=0.1, max_iter=100000).fit(X_train, y_train)\n",
    "print(\"Training set score: {:.2f}\".format(lasso01.score(X_train, y_train)))\n",
    "print(\"Test set score: {:.2f}\".format(lasso01.score(X_test, y_test)))\n"
   ]
  },
  {
   "cell_type": "code",
   "execution_count": 55,
   "metadata": {},
   "outputs": [
    {
     "name": "stdout",
     "output_type": "stream",
     "text": [
      "Training set score: 0.87\n",
      "Test set score: 0.86\n"
     ]
    }
   ],
   "source": [
    "# alpha = 0.001\n",
    "\n",
    "lasso0001 = Lasso(alpha=0.001, max_iter=100000).fit(X_train, y_train)\n",
    "print(\"Training set score: {:.2f}\".format(lasso0001.score(X_train, y_train)))\n",
    "print(\"Test set score: {:.2f}\".format(lasso0001.score(X_test, y_test)))\n"
   ]
  },
  {
   "cell_type": "code",
   "execution_count": 56,
   "metadata": {},
   "outputs": [
    {
     "name": "stdout",
     "output_type": "stream",
     "text": [
      "Training set score: 0.87\n",
      "Test set score: 0.86\n"
     ]
    }
   ],
   "source": [
    "# alpha = 0.0001\n",
    "\n",
    "lasso00001 = Lasso(alpha=0.0001, max_iter=100000).fit(X_train, y_train)\n",
    "print(\"Training set score: {:.2f}\".format(lasso00001.score(X_train, y_train)))\n",
    "print(\"Test set score: {:.2f}\".format(lasso00001.score(X_test, y_test)))\n"
   ]
  },
  {
   "cell_type": "code",
   "execution_count": 57,
   "metadata": {
    "scrolled": true
   },
   "outputs": [
    {
     "data": {
      "text/plain": [
       "Text(0, 0.5, 'Coefficient magnitude')"
      ]
     },
     "execution_count": 57,
     "metadata": {},
     "output_type": "execute_result"
    },
    {
     "data": {
      "image/png": "[encoded data removed]",
      "text/plain": [
       "<Figure size 432x288 with 1 Axes>"
      ]
     },
     "metadata": {},
     "output_type": "display_data"
    }
   ],
   "source": [
    "plt.plot(lasso.coef_, 's', label=\"Lasso alpha=1\")\n",
    "plt.plot(lasso01.coef_, '^', label=\"Lasso alpha=0.01\")\n",
    "plt.plot(lasso0001.coef_, 'v', label=\"Lasso alpha=0.0001\")\n",
    "plt.plot(lasso00001.coef_, 'o', label=\"Ridge alpha=0.001\")\n",
    "plt.legend(ncol=2, loc=(0, 1.05))\n",
    "plt.ylim(-25, 25)\n",
    "plt.xlabel(\"Coefficient index\")\n",
    "plt.ylabel(\"Coefficient magnitude\")"
   ]
  },
  {
   "cell_type": "markdown",
   "metadata": {},
   "source": [
    "# 20% slipt"
   ]
  },
  {
   "cell_type": "code",
   "execution_count": 58,
   "metadata": {},
   "outputs": [],
   "source": [
    "X_train,X_test,y_train,y_test=train_test_split(X,y, test_size=0.2,shuffle=False)"
   ]
  },
  {
   "cell_type": "code",
   "execution_count": 59,
   "metadata": {},
   "outputs": [
    {
     "name": "stdout",
     "output_type": "stream",
     "text": [
      "(31668, 14) (7917, 14) (31668,) (7917,)\n"
     ]
    }
   ],
   "source": [
    "print(X_train.shape,X_test.shape,y_train.shape,y_test.shape)"
   ]
  },
  {
   "cell_type": "markdown",
   "metadata": {},
   "source": [
    "### Linear Regression"
   ]
  },
  {
   "cell_type": "code",
   "execution_count": 60,
   "metadata": {},
   "outputs": [
    {
     "data": {
      "text/plain": [
       "0.902580615296651"
      ]
     },
     "execution_count": 60,
     "metadata": {},
     "output_type": "execute_result"
    }
   ],
   "source": [
    "# Calling the model\n",
    "lm = LinearRegression()\n",
    "\n",
    "# Fitting \n",
    "lm.fit(X_train, y_train)\n",
    "\n",
    "# Score\n",
    "lm.score(X_test,y_test)"
   ]
  },
  {
   "cell_type": "code",
   "execution_count": 61,
   "metadata": {},
   "outputs": [
    {
     "data": {
      "text/plain": [
       "<matplotlib.collections.PathCollection at 0x7f8957a22a90>"
      ]
     },
     "execution_count": 61,
     "metadata": {},
     "output_type": "execute_result"
    },
    {
     "data": {
      "image/png": "[encoded data removed]",
      "text/plain": [
       "<Figure size 432x288 with 1 Axes>"
      ]
     },
     "metadata": {},
     "output_type": "display_data"
    }
   ],
   "source": [
    "# Predictions\n",
    "\n",
    "predictions=lm.predict(X_test)\n",
    "\n",
    "\n",
    "fig = plt.figure()\n",
    "# Plot-label\n",
    "fig.suptitle('y_test vs predictions')\n",
    "\n",
    "#X-label\n",
    "plt.xlabel('y_test')\n",
    "\n",
    "# Y-label\n",
    "plt.ylabel('predictions')\n",
    "plt.scatter(y_test,predictions)"
   ]
  },
  {
   "cell_type": "code",
   "execution_count": 62,
   "metadata": {},
   "outputs": [
    {
     "name": "stdout",
     "output_type": "stream",
     "text": [
      "lr.coef_: [-5.93557125e+02  2.11737507e-02 -1.59930912e+00  3.63550803e+00\n",
      " -6.20505206e+02 -6.20505206e+02 -6.20505206e+02  2.78943284e+02\n",
      " -3.48951281e+00  2.75764876e+02  5.98377216e+02 -1.29295099e+02\n",
      "  5.10029224e+05  7.66092160e+05]\n",
      "lr.intercept_: -1213353.3261309597\n"
     ]
    }
   ],
   "source": [
    "# Printing coeffs and intercept\n",
    "\n",
    "print(\"lr.coef_: {}\".format(lm.coef_))\n",
    "print(\"lr.intercept_: {}\".format(lm.intercept_))"
   ]
  },
  {
   "cell_type": "code",
   "execution_count": 63,
   "metadata": {},
   "outputs": [
    {
     "name": "stdout",
     "output_type": "stream",
     "text": [
      "Training set score: 0.85\n",
      "Test set score: 0.90\n"
     ]
    }
   ],
   "source": [
    "# Train and test scores\n",
    "\n",
    "print(\"Training set score: {:.2f}\".format(lm.score(X_train, y_train)))\n",
    "print(\"Test set score: {:.2f}\".format(lm.score(X_test, y_test)))"
   ]
  },
  {
   "cell_type": "markdown",
   "metadata": {},
   "source": [
    "### Ridge Regression"
   ]
  },
  {
   "cell_type": "code",
   "execution_count": 64,
   "metadata": {},
   "outputs": [
    {
     "name": "stdout",
     "output_type": "stream",
     "text": [
      "Training set score: 0.85\n",
      "Test set score: 0.90\n"
     ]
    }
   ],
   "source": [
    "# alpha default value = 1\n",
    "\n",
    "\n",
    "ridge = Ridge().fit(X_train, y_train)\n",
    "print(\"Training set score: {:.2f}\".format(ridge.score(X_train, y_train)))\n",
    "print(\"Test set score: {:.2f}\".format(ridge.score(X_test, y_test)))"
   ]
  },
  {
   "cell_type": "code",
   "execution_count": 65,
   "metadata": {},
   "outputs": [
    {
     "name": "stdout",
     "output_type": "stream",
     "text": [
      "Training set score: 0.85\n",
      "Test set score: 0.90\n"
     ]
    }
   ],
   "source": [
    "# alpha = 0.001\n",
    "ridge0001 = Ridge(alpha=0.001).fit(X_train, y_train)\n",
    "print(\"Training set score: {:.2f}\".format(ridge0001.score(X_train, y_train)))\n",
    "print(\"Test set score: {:.2f}\".format(ridge0001.score(X_test, y_test)))"
   ]
  },
  {
   "cell_type": "code",
   "execution_count": 66,
   "metadata": {},
   "outputs": [
    {
     "name": "stdout",
     "output_type": "stream",
     "text": [
      "Training set score: 0.85\n",
      "Test set score: 0.90\n"
     ]
    }
   ],
   "source": [
    "# alpha = 0.0001\n",
    "ridge00001 = Ridge(alpha=0.0001).fit(X_train, y_train)\n",
    "print(\"Training set score: {:.2f}\".format(ridge00001.score(X_train, y_train)))\n",
    "print(\"Test set score: {:.2f}\".format(ridge00001.score(X_test, y_test)))"
   ]
  },
  {
   "cell_type": "code",
   "execution_count": 67,
   "metadata": {},
   "outputs": [
    {
     "data": {
      "text/plain": [
       "<matplotlib.legend.Legend at 0x7f895684b790>"
      ]
     },
     "execution_count": 67,
     "metadata": {},
     "output_type": "execute_result"
    },
    {
     "data": {
      "image/png": "[encoded data removed]",
      "text/plain": [
       "<Figure size 432x288 with 1 Axes>"
      ]
     },
     "metadata": {},
     "output_type": "display_data"
    }
   ],
   "source": [
    "plt.plot(ridge.coef_, 's', label=\"Ridge alpha=1\")\n",
    "plt.plot(ridge0001.coef_, '^', label=\"Ridge alpha=0.001\")\n",
    "plt.plot(ridge00001.coef_, 'v', label=\"Ridge alpha=0.0001\")\n",
    "plt.plot(lm.coef_, 'o', label=\"LinearRegression\")\n",
    "plt.xlabel(\"Coefficient index\")\n",
    "plt.ylabel(\"Coefficient magnitude\")\n",
    "plt.hlines(0, 0, len(lm.coef_))\n",
    "plt.ylim(-25, 25)\n",
    "plt.legend()"
   ]
  },
  {
   "cell_type": "markdown",
   "metadata": {},
   "source": [
    "### Lasso Regression"
   ]
  },
  {
   "cell_type": "code",
   "execution_count": 68,
   "metadata": {},
   "outputs": [
    {
     "name": "stdout",
     "output_type": "stream",
     "text": [
      "Training set score: 0.85\n",
      "Test set score: 0.90\n"
     ]
    }
   ],
   "source": [
    "\n",
    "lasso = Lasso().fit(X_train, y_train)\n",
    "print(\"Training set score: {:.2f}\".format(lasso.score(X_train, y_train)))\n",
    "print(\"Test set score: {:.2f}\".format(lasso.score(X_test, y_test)))\n"
   ]
  },
  {
   "cell_type": "code",
   "execution_count": 69,
   "metadata": {},
   "outputs": [
    {
     "name": "stdout",
     "output_type": "stream",
     "text": [
      "Training set score: 0.85\n",
      "Test set score: 0.90\n"
     ]
    }
   ],
   "source": [
    "# we increase the default setting of \"max_iter\",\n",
    "# otherwise the model would warn us that we should increase max_iter.\n",
    "# alpha = 1\n",
    "\n",
    "lasso1 = Lasso(max_iter=100000).fit(X_train, y_train)\n",
    "print(\"Training set score: {:.2f}\".format(lasso1.score(X_train, y_train)))\n",
    "print(\"Test set score: {:.2f}\".format(lasso1.score(X_test, y_test)))\n"
   ]
  },
  {
   "cell_type": "code",
   "execution_count": 70,
   "metadata": {},
   "outputs": [
    {
     "name": "stdout",
     "output_type": "stream",
     "text": [
      "Training set score: 0.85\n",
      "Test set score: 0.90\n"
     ]
    }
   ],
   "source": [
    "# alpha = 0.01\n",
    "\n",
    "lasso0001 = Lasso(alpha=0.001, max_iter=100000).fit(X_train, y_train)\n",
    "print(\"Training set score: {:.2f}\".format(lasso0001.score(X_train, y_train)))\n",
    "print(\"Test set score: {:.2f}\".format(lasso0001.score(X_test, y_test)))\n"
   ]
  },
  {
   "cell_type": "code",
   "execution_count": 71,
   "metadata": {},
   "outputs": [
    {
     "name": "stdout",
     "output_type": "stream",
     "text": [
      "Training set score: 0.85\n",
      "Test set score: 0.90\n"
     ]
    }
   ],
   "source": [
    "# alpha = 0.0001\n",
    "\n",
    "lasso00001 = Lasso(alpha=0.0001, max_iter=100000).fit(X_train, y_train)\n",
    "print(\"Training set score: {:.2f}\".format(lasso00001.score(X_train, y_train)))\n",
    "print(\"Test set score: {:.2f}\".format(lasso00001.score(X_test, y_test)))\n"
   ]
  },
  {
   "cell_type": "code",
   "execution_count": 72,
   "metadata": {
    "scrolled": false
   },
   "outputs": [
    {
     "data": {
      "text/plain": [
       "Text(0, 0.5, 'Coefficient magnitude')"
      ]
     },
     "execution_count": 72,
     "metadata": {},
     "output_type": "execute_result"
    },
    {
     "data": {
      "image/png": "[encoded data removed]",
      "text/plain": [
       "<Figure size 432x288 with 1 Axes>"
      ]
     },
     "metadata": {},
     "output_type": "display_data"
    }
   ],
   "source": [
    "plt.plot(lasso1.coef_, 's', label=\"Lasso alpha=1\")\n",
    "plt.plot(lasso0001.coef_, '^', label=\"Lasso alpha=0.001\")\n",
    "plt.plot(lasso00001.coef_, 'v', label=\"Lasso alpha=0.0001\")\n",
    "plt.plot(ridge0001.coef_, 'o', label=\"Ridge alpha=0.001\")\n",
    "plt.legend(ncol=2, loc=(0, 1.05))\n",
    "plt.ylim(-25, 25)\n",
    "plt.xlabel(\"Coefficient index\")\n",
    "plt.ylabel(\"Coefficient magnitude\")"
   ]
  },
  {
   "cell_type": "markdown",
   "metadata": {},
   "source": [
    "# 10% slipt"
   ]
  },
  {
   "cell_type": "code",
   "execution_count": 73,
   "metadata": {},
   "outputs": [],
   "source": [
    "X_train,X_test,y_train,y_test=train_test_split(X,y, test_size=0.1,shuffle=False)"
   ]
  },
  {
   "cell_type": "code",
   "execution_count": 74,
   "metadata": {},
   "outputs": [
    {
     "name": "stdout",
     "output_type": "stream",
     "text": [
      "(35626, 14) (3959, 14) (35626,) (3959,)\n"
     ]
    }
   ],
   "source": [
    "print(X_train.shape,X_test.shape,y_train.shape,y_test.shape)"
   ]
  },
  {
   "cell_type": "markdown",
   "metadata": {},
   "source": [
    "### Linear Regression"
   ]
  },
  {
   "cell_type": "code",
   "execution_count": 75,
   "metadata": {},
   "outputs": [
    {
     "data": {
      "text/plain": [
       "0.8441012162797495"
      ]
     },
     "execution_count": 75,
     "metadata": {},
     "output_type": "execute_result"
    }
   ],
   "source": [
    "# Calling the model\n",
    "lm = LinearRegression()\n",
    "\n",
    "# Fitting \n",
    "lm.fit(X_train, y_train)\n",
    "\n",
    "# Score\n",
    "lm.score(X_test,y_test)"
   ]
  },
  {
   "cell_type": "code",
   "execution_count": 76,
   "metadata": {},
   "outputs": [
    {
     "data": {
      "text/plain": [
       "<matplotlib.collections.PathCollection at 0x7f89579c1c50>"
      ]
     },
     "execution_count": 76,
     "metadata": {},
     "output_type": "execute_result"
    },
    {
     "data": {
      "image/png": "[encoded data removed]",
      "text/plain": [
       "<Figure size 432x288 with 1 Axes>"
      ]
     },
     "metadata": {},
     "output_type": "display_data"
    }
   ],
   "source": [
    "# Predictions\n",
    "\n",
    "predictions=lm.predict(X_test)\n",
    "\n",
    "\n",
    "fig = plt.figure()\n",
    "# Plot-label\n",
    "fig.suptitle('y_test vs predictions')\n",
    "\n",
    "#X-label\n",
    "plt.xlabel('y_test')\n",
    "\n",
    "# Y-label\n",
    "plt.ylabel('predictions')\n",
    "plt.scatter(y_test,predictions)"
   ]
  },
  {
   "cell_type": "code",
   "execution_count": 77,
   "metadata": {},
   "outputs": [
    {
     "name": "stdout",
     "output_type": "stream",
     "text": [
      "lr.coef_: [-6.13612753e+02  2.09753053e-02 -1.53007310e+00  3.52950522e+00\n",
      " -1.95774036e+02 -1.95774036e+02 -1.95774036e+02  3.11401150e+02\n",
      " -2.14646076e+01  1.96657279e+02 -2.83237778e+02 -1.49116543e+02\n",
      "  5.45555955e+05  7.33329525e+05]\n",
      "lr.intercept_: 566043.671223144\n"
     ]
    }
   ],
   "source": [
    "# Printing coeffs and intercept\n",
    "\n",
    "print(\"lr.coef_: {}\".format(lm.coef_))\n",
    "print(\"lr.intercept_: {}\".format(lm.intercept_))"
   ]
  },
  {
   "cell_type": "code",
   "execution_count": 78,
   "metadata": {},
   "outputs": [
    {
     "name": "stdout",
     "output_type": "stream",
     "text": [
      "Training set score: 0.87\n",
      "Test set score: 0.84\n"
     ]
    }
   ],
   "source": [
    "# Train and test score\n",
    "\n",
    "print(\"Training set score: {:.2f}\".format(lm.score(X_train, y_train)))\n",
    "print(\"Test set score: {:.2f}\".format(lm.score(X_test, y_test)))"
   ]
  },
  {
   "cell_type": "markdown",
   "metadata": {},
   "source": [
    "### Ridge Regression"
   ]
  },
  {
   "cell_type": "code",
   "execution_count": 79,
   "metadata": {},
   "outputs": [
    {
     "name": "stdout",
     "output_type": "stream",
     "text": [
      "Training set score: 0.87\n",
      "Test set score: 0.84\n"
     ]
    }
   ],
   "source": [
    "# alpha default value = 1\n",
    "\n",
    "\n",
    "ridge = Ridge().fit(X_train, y_train)\n",
    "print(\"Training set score: {:.2f}\".format(ridge.score(X_train, y_train)))\n",
    "print(\"Test set score: {:.2f}\".format(ridge.score(X_test, y_test)))"
   ]
  },
  {
   "cell_type": "code",
   "execution_count": 80,
   "metadata": {},
   "outputs": [
    {
     "name": "stdout",
     "output_type": "stream",
     "text": [
      "Training set score: 0.87\n",
      "Test set score: 0.84\n"
     ]
    }
   ],
   "source": [
    "# alpha = 0.001\n",
    "ridge0001 = Ridge(alpha=0.001).fit(X_train, y_train)\n",
    "print(\"Training set score: {:.2f}\".format(ridge0001.score(X_train, y_train)))\n",
    "print(\"Test set score: {:.2f}\".format(ridge0001.score(X_test, y_test)))"
   ]
  },
  {
   "cell_type": "code",
   "execution_count": 81,
   "metadata": {},
   "outputs": [
    {
     "name": "stdout",
     "output_type": "stream",
     "text": [
      "Training set score: 0.87\n",
      "Test set score: 0.84\n"
     ]
    }
   ],
   "source": [
    "# alpha = 0.0001\n",
    "ridge00001 = Ridge(alpha=0.0001).fit(X_train, y_train)\n",
    "print(\"Training set score: {:.2f}\".format(ridge00001.score(X_train, y_train)))\n",
    "print(\"Test set score: {:.2f}\".format(ridge00001.score(X_test, y_test)))"
   ]
  },
  {
   "cell_type": "code",
   "execution_count": 82,
   "metadata": {},
   "outputs": [
    {
     "data": {
      "text/plain": [
       "<matplotlib.legend.Legend at 0x7f895799db90>"
      ]
     },
     "execution_count": 82,
     "metadata": {},
     "output_type": "execute_result"
    },
    {
     "data": {
      "image/png": "[encoded data removed]",
      "text/plain": [
       "<Figure size 432x288 with 1 Axes>"
      ]
     },
     "metadata": {},
     "output_type": "display_data"
    }
   ],
   "source": [
    "plt.plot(ridge.coef_, 's', label=\"Ridge alpha=1\")\n",
    "plt.plot(ridge0001.coef_, '^', label=\"Ridge alpha=0.001\")\n",
    "plt.plot(ridge00001.coef_, 'v', label=\"Ridge alpha=0.0001\")\n",
    "plt.plot(lm.coef_, 'o', label=\"LinearRegression\")\n",
    "plt.xlabel(\"Coefficient index\")\n",
    "plt.ylabel(\"Coefficient magnitude\")\n",
    "plt.hlines(0, 0, len(lm.coef_))\n",
    "plt.ylim(-25, 25)\n",
    "plt.legend()"
   ]
  },
  {
   "cell_type": "markdown",
   "metadata": {},
   "source": [
    "### Lasso Regression"
   ]
  },
  {
   "cell_type": "code",
   "execution_count": 83,
   "metadata": {},
   "outputs": [
    {
     "name": "stdout",
     "output_type": "stream",
     "text": [
      "Training set score: 0.87\n",
      "Test set score: 0.84\n"
     ]
    }
   ],
   "source": [
    "\n",
    "lasso = Lasso().fit(X_train, y_train)\n",
    "print(\"Training set score: {:.2f}\".format(lasso.score(X_train, y_train)))\n",
    "print(\"Test set score: {:.2f}\".format(lasso.score(X_test, y_test)))\n"
   ]
  },
  {
   "cell_type": "code",
   "execution_count": 84,
   "metadata": {},
   "outputs": [
    {
     "name": "stdout",
     "output_type": "stream",
     "text": [
      "Training set score: 0.87\n",
      "Test set score: 0.84\n"
     ]
    }
   ],
   "source": [
    "# we increase the default setting of \"max_iter\",\n",
    "# otherwise the model would warn us that we should increase max_iter.\n",
    "# alpha = 1\n",
    "\n",
    "lasso1 = Lasso(max_iter=100000).fit(X_train, y_train)\n",
    "print(\"Training set score: {:.2f}\".format(lasso1.score(X_train, y_train)))\n",
    "print(\"Test set score: {:.2f}\".format(lasso1.score(X_test, y_test)))\n"
   ]
  },
  {
   "cell_type": "code",
   "execution_count": 85,
   "metadata": {},
   "outputs": [
    {
     "name": "stdout",
     "output_type": "stream",
     "text": [
      "Training set score: 0.87\n",
      "Test set score: 0.84\n"
     ]
    }
   ],
   "source": [
    "# alpha = 0.001\n",
    "\n",
    "lasso0001 = Lasso(alpha=0.001, max_iter=100000).fit(X_train, y_train)\n",
    "print(\"Training set score: {:.2f}\".format(lasso0001.score(X_train, y_train)))\n",
    "print(\"Test set score: {:.2f}\".format(lasso0001.score(X_test, y_test)))\n"
   ]
  },
  {
   "cell_type": "code",
   "execution_count": 86,
   "metadata": {},
   "outputs": [
    {
     "name": "stdout",
     "output_type": "stream",
     "text": [
      "Training set score: 0.87\n",
      "Test set score: 0.84\n"
     ]
    }
   ],
   "source": [
    "lasso00001 = Lasso(alpha=0.0001, max_iter=100000).fit(X_train, y_train)\n",
    "print(\"Training set score: {:.2f}\".format(lasso00001.score(X_train, y_train)))\n",
    "print(\"Test set score: {:.2f}\".format(lasso00001.score(X_test, y_test)))\n"
   ]
  },
  {
   "cell_type": "code",
   "execution_count": 87,
   "metadata": {
    "scrolled": false
   },
   "outputs": [
    {
     "data": {
      "text/plain": [
       "Text(0, 0.5, 'Coefficient magnitude')"
      ]
     },
     "execution_count": 87,
     "metadata": {},
     "output_type": "execute_result"
    },
    {
     "data": {
      "image/png": "[encoded data removed]",
      "text/plain": [
       "<Figure size 432x288 with 1 Axes>"
      ]
     },
     "metadata": {},
     "output_type": "display_data"
    }
   ],
   "source": [
    "plt.plot(lasso.coef_, 's', label=\"Lasso alpha=1\")\n",
    "plt.plot(lasso0001.coef_, '^', label=\"Lasso alpha=0.001\")\n",
    "plt.plot(lasso00001.coef_, 'v', label=\"Lasso alpha=0.0001\")\n",
    "plt.plot(ridge0001.coef_, 'o', label=\"Ridge alpha=0.001\")\n",
    "plt.legend(ncol=2, loc=(0, 1.05))\n",
    "plt.ylim(-25, 25)\n",
    "plt.xlabel(\"Coefficient index\")\n",
    "plt.ylabel(\"Coefficient magnitude\")"
   ]
  },
  {
   "cell_type": "code",
   "execution_count": null,
   "metadata": {},
   "outputs": [],
   "source": []
  }
 ],
 "metadata": {
  "kernelspec": {
   "display_name": "Python 3",
   "language": "python",
   "name": "python3"
  },
  "language_info": {
   "codemirror_mode": {
    "name": "ipython",
    "version": 3
   },
   "file_extension": ".py",
   "mimetype": "text/x-python",
   "name": "python",
   "nbconvert_exporter": "python",
   "pygments_lexer": "ipython3",
   "version": "3.7.6"
  }
 },
 "nbformat": 4,
 "nbformat_minor": 4
}
